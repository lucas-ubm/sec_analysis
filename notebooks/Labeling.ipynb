{
 "cells": [
  {
   "cell_type": "code",
   "execution_count": 2,
   "metadata": {},
   "outputs": [],
   "source": [
    "import pandas as pd"
   ]
  },
  {
   "cell_type": "markdown",
   "metadata": {},
   "source": [
    "# Sogood"
   ]
  },
  {
   "cell_type": "markdown",
   "metadata": {},
   "source": [
    "## Random companies"
   ]
  },
  {
   "cell_type": "code",
   "execution_count": 281,
   "metadata": {},
   "outputs": [],
   "source": [
    "import pandas as pd\n",
    "import numpy as np\n",
    "import random \n",
    "matches_df = pd.read_csv('../datasets/ai_mentions.csv')\n",
    "random_companies = matches_df[(matches_df.reporting_year==2024) & (matches_df.match_field=='1A_matches')].drop_duplicates('cik').cik.sample(n=20, random_state=42)\n",
    "\n",
    "business_mention_companies = matches_df[(matches_df.match_field=='1_matches') & (matches_df.reporting_year==2024)].cik\n",
    "first_risk = matches_df[(~matches_df.cik.isin(business_mention_companies)) & (matches_df.match_field=='1A_matches')].groupby('cik')[['reporting_year']].min()\n",
    "random_risk_no_business = first_risk[first_risk.reporting_year==2024].sample(n=20, random_state=42).index\n",
    "\n",
    "random_statemments = matches_df.drop_duplicates('sentence').sample(n=385, random_state=42)\n",
    "top_10 = [1652044, 1136101, 1326801, 1018724, 789019, 1045810, 320193, 1318605, 1730168, 1065280, 1341439]\n"
   ]
  },
  {
   "cell_type": "code",
   "execution_count": 123,
   "metadata": {},
   "outputs": [],
   "source": [
    "bram_labels = pd.read_excel('../datasets/labels/sogood_bram_ai_mentions.xlsx')\n",
    "lucas_labels = pd.read_excel('../datasets/labels/sogood_lucas_ai_mentions.xlsx')"
   ]
  },
  {
   "cell_type": "code",
   "execution_count": 145,
   "metadata": {},
   "outputs": [],
   "source": [
    "label_columns = ['Compliance costs', 'Legal uncertainty', 'Legal actions', 'IP',\n",
    "       'Other legal', 'Rapid developments', 'Large investments',\n",
    "       'Other competitive', 'Reputational', 'Societal']"
   ]
  },
  {
   "cell_type": "code",
   "execution_count": 146,
   "metadata": {},
   "outputs": [],
   "source": [
    "lucas_labeled =lucas_labels[(lucas_labels.reporting_year == 2024) & (lucas_labels.match_field=='1A_matches') & ((lucas_labels.top_10==1) | (lucas_labels.cik.isin(random_risk_no_business)) | (lucas_labels.cik.isin(random_companies)))]\n",
    "lucas_nvidia_2025 = lucas_labels[(lucas_labels.reporting_year== 2025) & (lucas_labels.cik==1045810) & (lucas_labels.match_field=='1A_matches')]\n",
    "lucas_labeled_without_nvidia = lucas_labeled[lucas_labeled.cik != 1045810]\n",
    "lucas_labeled_complete = pd.concat([lucas_labeled_without_nvidia, lucas_nvidia_2025], ignore_index=True)\n",
    "lucas_labeled_complete[label_columns] = lucas_labeled_complete[label_columns].fillna(0).astype(int)"
   ]
  },
  {
   "cell_type": "code",
   "execution_count": 147,
   "metadata": {},
   "outputs": [],
   "source": [
    "bram_labeled =bram_labels[(bram_labels.reporting_year == 2024) & (bram_labels.match_field=='1A_matches') & ((bram_labels.top_10==1) | (bram_labels.cik.isin(random_risk_no_business)) | (bram_labels.cik.isin(random_companies)))]\n",
    "bram_nvidia_2025 = bram_labels[(bram_labels.reporting_year== 2025) & (bram_labels.cik==1045810) & (bram_labels.match_field=='1A_matches')]\n",
    "bram_labeled_without_nvidia = bram_labeled[bram_labeled.cik != 1045810]\n",
    "bram_labeled_complete = pd.concat([bram_labeled_without_nvidia, bram_nvidia_2025], ignore_index=True)\n",
    "bram_labeled_complete[label_columns] = bram_labeled_complete[label_columns].fillna(0).astype(int)\n"
   ]
  },
  {
   "cell_type": "code",
   "execution_count": 148,
   "metadata": {},
   "outputs": [],
   "source": [
    "joined_labeled_complete = bram_labeled_complete.join(lucas_labeled_complete, rsuffix='_lucas', lsuffix='_bram')"
   ]
  },
  {
   "cell_type": "code",
   "execution_count": 127,
   "metadata": {},
   "outputs": [],
   "source": [
    "either_societal = joined_labeled_complete[(joined_labeled_complete.Societal_lucas==1) | (joined_labeled_complete.Societal_bram==1)]\n",
    "either_societal.to_excel('../datasets/labels/sogood_combined_societal_mentions.xlsx')"
   ]
  },
  {
   "cell_type": "code",
   "execution_count": null,
   "metadata": {},
   "outputs": [],
   "source": []
  },
  {
   "cell_type": "markdown",
   "metadata": {},
   "source": [
    "## Non societal disagreements"
   ]
  },
  {
   "cell_type": "markdown",
   "metadata": {},
   "source": []
  },
  {
   "cell_type": "code",
   "execution_count": null,
   "metadata": {},
   "outputs": [],
   "source": []
  },
  {
   "cell_type": "code",
   "execution_count": 149,
   "metadata": {},
   "outputs": [],
   "source": [
    "non_societal = joined_labeled_complete[~((joined_labeled_complete.Societal_lucas==1) | (joined_labeled_complete.Societal_bram==1))]"
   ]
  },
  {
   "cell_type": "code",
   "execution_count": 150,
   "metadata": {},
   "outputs": [],
   "source": [
    "# Extract all rows where any of the Lucas label columns has a different value than the respective Bram label column\n",
    "differing_rows_condition = False\n",
    "for col in label_columns:\n",
    "    bram_col = f\"{col}_bram\"\n",
    "    lucas_col = f\"{col}_lucas\"\n",
    "    differing_rows_condition |= (non_societal[bram_col] != non_societal[lucas_col])\n",
    "\n",
    "# Select rows where labels differ\n",
    "differing_rows = non_societal.fillna(0)[differing_rows_condition]"
   ]
  },
  {
   "cell_type": "code",
   "execution_count": 166,
   "metadata": {},
   "outputs": [
    {
     "data": {
      "text/plain": [
       "521"
      ]
     },
     "execution_count": 166,
     "metadata": {},
     "output_type": "execute_result"
    }
   ],
   "source": [
    "len(non_societal)"
   ]
  },
  {
   "cell_type": "code",
   "execution_count": 167,
   "metadata": {},
   "outputs": [
    {
     "data": {
      "text/plain": [
       "273"
      ]
     },
     "execution_count": 167,
     "metadata": {},
     "output_type": "execute_result"
    }
   ],
   "source": [
    "len(differing_rows)"
   ]
  },
  {
   "cell_type": "code",
   "execution_count": 155,
   "metadata": {},
   "outputs": [],
   "source": [
    "import pandas as pd\n",
    "from openpyxl import load_workbook\n",
    "from openpyxl.styles import PatternFill, Font\n",
    "from openpyxl.utils.dataframe import dataframe_to_rows\n",
    "\n",
    "# Method 1: Using openpyxl for detailed formatting\n",
    "def export_with_highlighting(df, filename='label_differences.xlsx'):\n",
    "    # Export to Excel first\n",
    "    df.to_excel(filename, index=False)\n",
    "    \n",
    "    # Load the workbook and worksheet\n",
    "    wb = load_workbook(filename)\n",
    "    ws = wb.active\n",
    "    \n",
    "    # Define highlighting styles\n",
    "    highlight_fill = PatternFill(start_color=\"FFFF00\", end_color=\"FFFF00\", fill_type=\"solid\")  # Yellow\n",
    "    bold_font = Font(bold=True)\n",
    "    \n",
    "    # Get column indices for Bram and Lucas columns\n",
    "    column_indices = {}\n",
    "    for idx, col_name in enumerate(df.columns, 1):  # Excel columns start at 1\n",
    "        column_indices[col_name] = idx\n",
    "    \n",
    "    # Iterate through each row (starting from row 2, since row 1 is headers)\n",
    "    for row_idx in range(2, len(df) + 2):\n",
    "        df_row_idx = row_idx - 2  # Corresponding DataFrame row index\n",
    "        \n",
    "        # Check each label column pair\n",
    "        for col in label_columns:\n",
    "            bram_col = f\"{col}_bram\"\n",
    "            lucas_col = f\"{col}_lucas\"\n",
    "            \n",
    "            # Check if these columns exist and values differ\n",
    "            if (bram_col in df.columns and lucas_col in df.columns and\n",
    "                bram_col in column_indices and lucas_col in column_indices):\n",
    "                \n",
    "                bram_val = df.iloc[df_row_idx][bram_col]\n",
    "                lucas_val = df.iloc[df_row_idx][lucas_col]\n",
    "                \n",
    "                if pd.notna(bram_val) and pd.notna(lucas_val) and bram_val != lucas_val:\n",
    "                    # Highlight both cells\n",
    "                    bram_cell = ws.cell(row=row_idx, column=column_indices[bram_col])\n",
    "                    lucas_cell = ws.cell(row=row_idx, column=column_indices[lucas_col])\n",
    "                    \n",
    "                    bram_cell.fill = highlight_fill\n",
    "                    lucas_cell.fill = highlight_fill\n",
    "                    bram_cell.font = bold_font\n",
    "                    lucas_cell.font = bold_font\n",
    "    \n",
    "    # Save the formatted workbook\n",
    "    wb.save(filename)\n",
    "    print(f\"Excel file saved as '{filename}' with highlighted differences\")\n"
   ]
  },
  {
   "cell_type": "code",
   "execution_count": 157,
   "metadata": {},
   "outputs": [
    {
     "data": {
      "text/plain": [
       "Index(['sentence', 'company', 'keyword', 'match_field', 'cik', 'filing_date',\n",
       "       'period_of_report', 'filename', 'match_id', 'filing_year',\n",
       "       'reporting_year', 'top_10', 'random_risk_no_business', 'random',\n",
       "       'Who uses it? (us/others)', 'Business mention interesting? ',\n",
       "       'Compliance costs', 'Legal uncertainty', 'Legal actions', 'IP',\n",
       "       'Other legal', 'Rapid developments', 'Large investments',\n",
       "       'Other competitive', 'Reputational', 'Societal', 'Domain', 'Sub-domain',\n",
       "       'Not an AI risk', 'Labeled', 'Quotationable'],\n",
       "      dtype='object')"
      ]
     },
     "execution_count": 157,
     "metadata": {},
     "output_type": "execute_result"
    }
   ],
   "source": [
    "lucas_labeled_complete.columns"
   ]
  },
  {
   "cell_type": "code",
   "execution_count": null,
   "metadata": {},
   "outputs": [
    {
     "name": "stdout",
     "output_type": "stream",
     "text": [
      "Excel file saved as '../datasets/labels/sogood_nonsocietal_label_differences.xlsx' with highlighted differences\n"
     ]
    }
   ],
   "source": [
    "core_columns = ['match_id_bram', 'sentence_bram', 'company_bram', 'keyword_bram', 'cik_bram', 'reporting_year_bram']\n",
    "relevant_columns = core_columns.copy()\n",
    "for col in label_columns:\n",
    "    relevant_columns.append(f\"{col}_bram\")\n",
    "    relevant_columns.append(f\"{col}_lucas\")\n",
    "\n",
    "differing_rows = non_societal[differing_rows_condition][relevant_columns]\n",
    "differing_rows = differing_rows.rename(columns={k:k.replace('_bram', '') for k in core_columns})\n",
    "# export_with_highlighting(differing_rows, filename='../datasets/labels/sogood_nonsocietal_label_differences.xlsx')"
   ]
  },
  {
   "cell_type": "markdown",
   "metadata": {},
   "source": [
    "### Combining labels"
   ]
  },
  {
   "cell_type": "code",
   "execution_count": 260,
   "metadata": {},
   "outputs": [],
   "source": [
    "societal_labels = pd.read_excel('../datasets/labels/sogood_combined_societal_mentions.xlsx')\n",
    "societal_labels = societal_labels.rename(columns={'us_others': 'Who uses it? (us/others)'})\n",
    "non_societal_labels = pd.read_excel('../datasets/labels/sogood_nonsocietal_label_differences.xlsx')\n",
    "non_societal_labels['sentence number'] = list(differing_rows.index)\n",
    "non_societal_labels = non_societal_labels[[i for i in non_societal_labels.columns if not i.endswith('_lucas')]]\n",
    "non_societal_labels = non_societal_labels.rename(columns={k:k.replace('_bram', '') for k in non_societal_labels.columns if k.endswith('_bram')}).set_index('sentence number')\n",
    "all_others = non_societal.fillna(0)[~differing_rows_condition]"
   ]
  },
  {
   "cell_type": "code",
   "execution_count": 261,
   "metadata": {},
   "outputs": [],
   "source": [
    "relable_missing_columns = ['match_field', 'filing_date', 'period_of_report', 'filename', 'filing_year', 'top_10', 'random_risk_no_business', 'random', 'Who uses it? (us/others)', 'Domain', 'Sub-domain', 'Not an AI risk', 'Quotationable']\n",
    "non_societal_relabeled = non_societal_labels.join(non_societal[[f\"{i}_bram\" for i in relable_missing_columns]])\n",
    "non_societal_relabeled = non_societal_relabeled.rename(columns={k:k.replace('_bram', '') for k in non_societal_relabeled.columns if k.endswith('_bram')})"
   ]
  },
  {
   "cell_type": "code",
   "execution_count": 262,
   "metadata": {},
   "outputs": [],
   "source": [
    "all_others = all_others[[f\"{col}_bram\" for col in non_societal_relabeled.columns]]\n",
    "all_others = all_others.rename(columns={k:k.replace('_bram', '') for k in all_others.columns if k.endswith('_bram')}) "
   ]
  },
  {
   "cell_type": "code",
   "execution_count": 271,
   "metadata": {},
   "outputs": [],
   "source": [
    "total_combined = pd.concat([societal_labels, non_societal_relabeled, all_others.reset_index(names='sentence number')])"
   ]
  },
  {
   "cell_type": "code",
   "execution_count": 272,
   "metadata": {},
   "outputs": [],
   "source": [
    "total_combined.to_excel('../datasets/labels/sogood_final_combined_labels.xlsx', index=False)"
   ]
  },
  {
   "cell_type": "code",
   "execution_count": 282,
   "metadata": {},
   "outputs": [],
   "source": [
    "total_combined.loc[total_combined.cik.isin(random_companies),'group' ] = 'random_companies'\n",
    "total_combined.loc[total_combined.cik.isin(random_risk_no_business),'group' ] = 'random_risk_no_business'\n",
    "total_combined.loc[total_combined.cik.isin(top_10),'group' ] = 'top_10'"
   ]
  },
  {
   "cell_type": "markdown",
   "metadata": {},
   "source": [
    "## Inter-annotator agreement"
   ]
  },
  {
   "cell_type": "code",
   "execution_count": 485,
   "metadata": {},
   "outputs": [
    {
     "name": "stdout",
     "output_type": "stream",
     "text": [
      "Collecting scikit-learn\n",
      "  Using cached scikit_learn-1.3.2-cp38-cp38-win_amd64.whl.metadata (11 kB)\n",
      "Requirement already satisfied: numpy<2.0,>=1.17.3 in c:\\users\\p70088982\\appdata\\local\\miniconda3\\envs\\edgar_crawler\\lib\\site-packages (from scikit-learn) (1.24.4)\n",
      "Collecting scipy>=1.5.0 (from scikit-learn)\n",
      "  Downloading scipy-1.10.1-cp38-cp38-win_amd64.whl.metadata (58 kB)\n",
      "Collecting joblib>=1.1.1 (from scikit-learn)\n",
      "  Using cached joblib-1.4.2-py3-none-any.whl.metadata (5.4 kB)\n",
      "Collecting threadpoolctl>=2.0.0 (from scikit-learn)\n",
      "  Using cached threadpoolctl-3.5.0-py3-none-any.whl.metadata (13 kB)\n",
      "Using cached scikit_learn-1.3.2-cp38-cp38-win_amd64.whl (9.3 MB)\n",
      "Using cached joblib-1.4.2-py3-none-any.whl (301 kB)\n",
      "Downloading scipy-1.10.1-cp38-cp38-win_amd64.whl (42.2 MB)\n",
      "   ---------------------------------------- 0.0/42.2 MB ? eta -:--:--\n",
      "   -- ------------------------------------- 2.6/42.2 MB 16.9 MB/s eta 0:00:03\n",
      "   ------ --------------------------------- 6.8/42.2 MB 18.3 MB/s eta 0:00:02\n",
      "   --------- ------------------------------ 10.5/42.2 MB 18.7 MB/s eta 0:00:02\n",
      "   ------------- -------------------------- 14.2/42.2 MB 18.5 MB/s eta 0:00:02\n",
      "   ---------------- ----------------------- 17.3/42.2 MB 17.9 MB/s eta 0:00:02\n",
      "   ------------------- -------------------- 20.4/42.2 MB 17.5 MB/s eta 0:00:02\n",
      "   ---------------------- ----------------- 23.6/42.2 MB 17.0 MB/s eta 0:00:02\n",
      "   ------------------------ --------------- 26.2/42.2 MB 16.3 MB/s eta 0:00:01\n",
      "   --------------------------- ------------ 28.8/42.2 MB 15.8 MB/s eta 0:00:01\n",
      "   ----------------------------- ---------- 31.5/42.2 MB 15.5 MB/s eta 0:00:01\n",
      "   -------------------------------- ------- 33.8/42.2 MB 15.2 MB/s eta 0:00:01\n",
      "   ---------------------------------- ----- 36.7/42.2 MB 15.1 MB/s eta 0:00:01\n",
      "   ------------------------------------- -- 39.3/42.2 MB 14.9 MB/s eta 0:00:01\n",
      "   ---------------------------------------  41.9/42.2 MB 14.7 MB/s eta 0:00:01\n",
      "   ---------------------------------------  42.2/42.2 MB 14.7 MB/s eta 0:00:01\n",
      "   ---------------------------------------- 42.2/42.2 MB 13.3 MB/s eta 0:00:00\n",
      "Using cached threadpoolctl-3.5.0-py3-none-any.whl (18 kB)\n",
      "Installing collected packages: threadpoolctl, scipy, joblib, scikit-learn\n",
      "Successfully installed joblib-1.4.2 scikit-learn-1.3.2 scipy-1.10.1 threadpoolctl-3.5.0\n"
     ]
    }
   ],
   "source": [
    "!pip install scikit-learn"
   ]
  },
  {
   "cell_type": "code",
   "execution_count": 486,
   "metadata": {},
   "outputs": [],
   "source": [
    "from sklearn.metrics import cohen_kappa_score"
   ]
  },
  {
   "cell_type": "code",
   "execution_count": 496,
   "metadata": {},
   "outputs": [],
   "source": [
    "legal_labels = ['Compliance costs', 'Legal uncertainty', 'Legal actions', 'IP', 'Other legal']\n",
    "competition_labels = ['Rapid developments', 'Large investments', 'Other competitive']"
   ]
  },
  {
   "cell_type": "code",
   "execution_count": 511,
   "metadata": {},
   "outputs": [
    {
     "name": "stdout",
     "output_type": "stream",
     "text": [
      "For label Compliance costs Cohen's kappa was 0.48, agreement was 91.53%\n",
      "For label Legal uncertainty Cohen's kappa was 0.49, agreement was 88.93%\n",
      "For label Legal actions Cohen's kappa was 0.62, agreement was 93.03%\n",
      "For label IP Cohen's kappa was 0.71, agreement was 96.17%\n",
      "For label Other legal Cohen's kappa was 0.27, agreement was 85.38%\n",
      "For label Rapid developments Cohen's kappa was 0.58, agreement was 93.17%\n",
      "For label Large investments Cohen's kappa was 0.57, agreement was 95.63%\n",
      "For label Other competitive Cohen's kappa was 0.46, agreement was 81.28%\n",
      "For label Reputational Cohen's kappa was 0.75, agreement was 95.49%\n",
      "For label Societal Cohen's kappa was 0.82, agreement was 93.31%\n",
      "For legal category, Cohen's kappa was 0.7964640730356605, agreement was 90.16%\n",
      "For competitive category, Cohen's kappa was 0.6042413091895033, agreement was 81.69%\n"
     ]
    }
   ],
   "source": [
    "kappas = {}\n",
    "for label in label_columns:\n",
    "    lucas_label = joined_labeled_complete[f\"{label}_lucas\"]\n",
    "    bram_label = joined_labeled_complete[f\"{label}_bram\"]\n",
    "    # print(f\"Agreement for label {label} was {joined_labeled_complete[lucas_label==bram_label].shape[0]/len(joined_labeled_complete)}%\")\n",
    "    kappa = cohen_kappa_score(lucas_label, bram_label)\n",
    "    print(f\"For label {label} Cohen's kappa was {kappa:.2f}, agreement was {joined_labeled_complete[lucas_label==bram_label].shape[0]/len(joined_labeled_complete)*100:.2f}%\")\n",
    "    kappas[label] = kappa\n",
    "\n",
    "# Aggregated per group \n",
    "lucas_legal = joined_labeled_complete[[f\"{col}_lucas\" for col in legal_labels]].max(axis=1)\n",
    "bram_legal = joined_labeled_complete[[f\"{col}_bram\" for col in legal_labels]].max(axis=1)\n",
    "legal_kappa = cohen_kappa_score(lucas_legal, bram_legal)\n",
    "print(f\"For legal category, Cohen's kappa was {legal_kappa}, agreement was {(lucas_legal==bram_legal).sum()*100/len(lucas_legal):.2f}%\")\n",
    "kappas['legal'] = legal_kappa\n",
    "\n",
    "lucas_competitive = joined_labeled_complete[[f\"{col}_lucas\" for col in competition_labels]].max(axis=1)\n",
    "bram_competitive = joined_labeled_complete[[f\"{col}_bram\" for col in competition_labels]].max(axis=1)\n",
    "competition_kappa = cohen_kappa_score(lucas_competitive, bram_competitive)\n",
    "print(f\"For competitive category, Cohen's kappa was {competition_kappa}, agreement was {(lucas_competitive==bram_competitive).sum()*100/len(lucas_competitive):.2f}%\")\n",
    "kappas['competition'] = competition_kappa\n"
   ]
  },
  {
   "cell_type": "code",
   "execution_count": 531,
   "metadata": {},
   "outputs": [
    {
     "data": {
      "text/plain": [
       "444"
      ]
     },
     "execution_count": 531,
     "metadata": {},
     "output_type": "execute_result"
    }
   ],
   "source": [
    "total_combined[total_combined['Not an AI risk'] != True].groupby('cik').sentence.nunique().sum()"
   ]
  },
  {
   "cell_type": "markdown",
   "metadata": {},
   "source": [
    "# Table per subgroup\n",
    "Showing the percentage of companies with at least one statement of each of the categories (considering societal a simple 1/0). Also breakdown per typeof societal. "
   ]
  },
  {
   "cell_type": "code",
   "execution_count": 289,
   "metadata": {},
   "outputs": [],
   "source": [
    "label_columns = ['Compliance costs', 'Legal uncertainty', 'Legal actions', 'IP',\n",
    "       'Other legal', 'Rapid developments', 'Large investments',\n",
    "       'Other competitive', 'Reputational', 'Societal']"
   ]
  },
  {
   "cell_type": "markdown",
   "metadata": {},
   "source": [
    "Per label"
   ]
  },
  {
   "cell_type": "code",
   "execution_count": null,
   "metadata": {},
   "outputs": [],
   "source": [
    "companies_per_label = {}\n",
    "for label in label_columns:\n",
    "    companies_per_label[label] = total_combined.groupby(['cik', 'group'])[[label]].max().reset_index().groupby(['group', label]).size()\n",
    "companies_per_label_df = pd.concat(companies_per_label.values(), axis=1).rename(columns={i:v for i,v in enumerate(companies_per_label.keys())})\n"
   ]
  },
  {
   "cell_type": "markdown",
   "metadata": {},
   "source": [
    "Per grouped label"
   ]
  },
  {
   "cell_type": "code",
   "execution_count": 334,
   "metadata": {},
   "outputs": [],
   "source": [
    "legal_labels = ['Compliance costs', 'Legal uncertainty', 'Legal actions', 'IP', 'Other legal']\n",
    "competition_labels = ['Rapid developments', 'Large investments', 'Other competitive']\n",
    "reputational_labels = ['Reputational']\n",
    "\n",
    "legal_risks = (total_combined.groupby(['cik', 'group'])[legal_labels].max().sum(axis=1)>0).reset_index().rename(columns={0:'legal_risk'}).groupby([ 'legal_risk', 'group']).size()\n",
    "competitive_risks = (total_combined.groupby(['cik', 'group'])[competition_labels].max().sum(axis=1)>0).reset_index().rename(columns={0:'competitive_risk'}).groupby([ 'competitive_risk', 'group']).size()\n",
    "\n",
    "grouped_companies_per_label_df = pd.concat([competitive_risks, legal_risks, companies_per_label['Reputational'],  companies_per_label['Societal']], axis=1).rename(columns={1:'legal', 0:'competitive', 2:'reputational', 3:'societal'}).fillna(0).astype(int)"
   ]
  },
  {
   "cell_type": "code",
   "execution_count": 345,
   "metadata": {},
   "outputs": [],
   "source": [
    "number_of_unique_sentences = total_combined.groupby('group')[['sentence']].nunique()"
   ]
  },
  {
   "cell_type": "markdown",
   "metadata": {},
   "source": [
    "Per type of sub-domain"
   ]
  },
  {
   "cell_type": "code",
   "execution_count": 360,
   "metadata": {},
   "outputs": [],
   "source": [
    "per_subdomain = total_combined[total_combined['Sub-domain']!=0].groupby(['Sub-domain', 'group'])[['cik']].nunique()"
   ]
  },
  {
   "cell_type": "code",
   "execution_count": 362,
   "metadata": {},
   "outputs": [],
   "source": [
    "per_domain = total_combined[total_combined['Domain']!=0].groupby(['Domain', 'group'])[['cik']].nunique()"
   ]
  },
  {
   "cell_type": "code",
   "execution_count": 520,
   "metadata": {},
   "outputs": [
    {
     "name": "stderr",
     "output_type": "stream",
     "text": [
      "C:\\Users\\P70088982\\AppData\\Local\\Temp\\ipykernel_21280\\1689197222.py:1: FutureWarning: The default value of numeric_only in DataFrameGroupBy.sum is deprecated. In a future version, numeric_only will default to False. Either specify numeric_only or select only columns which should be valid for the function.\n",
      "  number_of_sentences_per_group_per_label = total_combined.groupby(['group']).sum().iloc[:, 7:-1]\n"
     ]
    }
   ],
   "source": [
    "number_of_sentences_per_group_per_label = total_combined.groupby(['group']).sum().iloc[:, 7:-1]"
   ]
  },
  {
   "cell_type": "code",
   "execution_count": 521,
   "metadata": {},
   "outputs": [
    {
     "name": "stderr",
     "output_type": "stream",
     "text": [
      "c:\\Users\\P70088982\\AppData\\Local\\miniconda3\\envs\\edgar_crawler\\lib\\site-packages\\openpyxl\\workbook\\child.py:99: UserWarning: Title is more than 31 characters. Some applications may not be able to read the file\n",
      "  warnings.warn(\"Title is more than 31 characters. Some applications may not be able to read the file\")\n"
     ]
    }
   ],
   "source": [
    "# Export to excel sheet\n",
    "sheets = {'companies_per_label': companies_per_label_df, 'grouped_companies_per_label': grouped_companies_per_label_df, \n",
    "          'number_of_unique_sentences': number_of_unique_sentences, 'per_subdomain': per_subdomain,\n",
    "          'per_domain': per_domain, 'number_of_sentences_per_group_per_label': number_of_sentences_per_group_per_label}\n",
    "with pd.ExcelWriter('../datasets/labels/companies_per_label.xlsx') as writer:\n",
    "    for label, counts in sheets.items():\n",
    "        counts.to_excel(writer, sheet_name=label, index=True)"
   ]
  },
  {
   "cell_type": "markdown",
   "metadata": {},
   "source": [
    "## Plots"
   ]
  },
  {
   "cell_type": "code",
   "execution_count": 377,
   "metadata": {},
   "outputs": [],
   "source": [
    "import seaborn as sns"
   ]
  },
  {
   "cell_type": "code",
   "execution_count": null,
   "metadata": {},
   "outputs": [],
   "source": [
    "grouped_companies_per_label_df_norm = grouped_companies_per_label_df/20\n",
    "\n",
    "grouped_companies_per_label_df_norm.loc[(slice(None), 'top_10'), :] = grouped_companies_per_label_df_norm *2\n",
    "grouped_companies_per_label_df_norm = grouped_companies_per_label_df_norm.reset_index().rename(columns={'level_0': 'mentioned'})\n",
    "grouped_companies_per_label_df_norm = grouped_companies_per_label_df_norm[grouped_companies_per_label_df_norm.mentioned]\n",
    "grouped_companies_per_label_df_norm = grouped_companies_per_label_df_norm.melt(id_vars=['mentioned', 'group'], value_vars=['legal', 'competitive', 'reputational', 'societal'])\n"
   ]
  },
  {
   "cell_type": "code",
   "execution_count": 400,
   "metadata": {},
   "outputs": [
    {
     "data": {
      "text/html": [
       "<div>\n",
       "<style scoped>\n",
       "    .dataframe tbody tr th:only-of-type {\n",
       "        vertical-align: middle;\n",
       "    }\n",
       "\n",
       "    .dataframe tbody tr th {\n",
       "        vertical-align: top;\n",
       "    }\n",
       "\n",
       "    .dataframe thead th {\n",
       "        text-align: right;\n",
       "    }\n",
       "</style>\n",
       "<table border=\"1\" class=\"dataframe\">\n",
       "  <thead>\n",
       "    <tr style=\"text-align: right;\">\n",
       "      <th></th>\n",
       "      <th>mentioned</th>\n",
       "      <th>group</th>\n",
       "      <th>variable</th>\n",
       "      <th>value</th>\n",
       "    </tr>\n",
       "  </thead>\n",
       "  <tbody>\n",
       "    <tr>\n",
       "      <th>0</th>\n",
       "      <td>True</td>\n",
       "      <td>random_companies</td>\n",
       "      <td>legal</td>\n",
       "      <td>0.50</td>\n",
       "    </tr>\n",
       "    <tr>\n",
       "      <th>1</th>\n",
       "      <td>True</td>\n",
       "      <td>random_risk_no_business</td>\n",
       "      <td>legal</td>\n",
       "      <td>0.50</td>\n",
       "    </tr>\n",
       "    <tr>\n",
       "      <th>2</th>\n",
       "      <td>True</td>\n",
       "      <td>top_10</td>\n",
       "      <td>legal</td>\n",
       "      <td>1.00</td>\n",
       "    </tr>\n",
       "    <tr>\n",
       "      <th>3</th>\n",
       "      <td>True</td>\n",
       "      <td>random_companies</td>\n",
       "      <td>competitive</td>\n",
       "      <td>0.55</td>\n",
       "    </tr>\n",
       "    <tr>\n",
       "      <th>4</th>\n",
       "      <td>True</td>\n",
       "      <td>random_risk_no_business</td>\n",
       "      <td>competitive</td>\n",
       "      <td>0.70</td>\n",
       "    </tr>\n",
       "    <tr>\n",
       "      <th>5</th>\n",
       "      <td>True</td>\n",
       "      <td>top_10</td>\n",
       "      <td>competitive</td>\n",
       "      <td>0.90</td>\n",
       "    </tr>\n",
       "    <tr>\n",
       "      <th>6</th>\n",
       "      <td>True</td>\n",
       "      <td>random_companies</td>\n",
       "      <td>reputational</td>\n",
       "      <td>0.30</td>\n",
       "    </tr>\n",
       "    <tr>\n",
       "      <th>7</th>\n",
       "      <td>True</td>\n",
       "      <td>random_risk_no_business</td>\n",
       "      <td>reputational</td>\n",
       "      <td>0.15</td>\n",
       "    </tr>\n",
       "    <tr>\n",
       "      <th>8</th>\n",
       "      <td>True</td>\n",
       "      <td>top_10</td>\n",
       "      <td>reputational</td>\n",
       "      <td>0.70</td>\n",
       "    </tr>\n",
       "    <tr>\n",
       "      <th>9</th>\n",
       "      <td>True</td>\n",
       "      <td>random_companies</td>\n",
       "      <td>societal</td>\n",
       "      <td>0.85</td>\n",
       "    </tr>\n",
       "    <tr>\n",
       "      <th>10</th>\n",
       "      <td>True</td>\n",
       "      <td>random_risk_no_business</td>\n",
       "      <td>societal</td>\n",
       "      <td>0.70</td>\n",
       "    </tr>\n",
       "    <tr>\n",
       "      <th>11</th>\n",
       "      <td>True</td>\n",
       "      <td>top_10</td>\n",
       "      <td>societal</td>\n",
       "      <td>0.80</td>\n",
       "    </tr>\n",
       "  </tbody>\n",
       "</table>\n",
       "</div>"
      ],
      "text/plain": [
       "    mentioned                    group      variable  value\n",
       "0        True         random_companies         legal   0.50\n",
       "1        True  random_risk_no_business         legal   0.50\n",
       "2        True                   top_10         legal   1.00\n",
       "3        True         random_companies   competitive   0.55\n",
       "4        True  random_risk_no_business   competitive   0.70\n",
       "5        True                   top_10   competitive   0.90\n",
       "6        True         random_companies  reputational   0.30\n",
       "7        True  random_risk_no_business  reputational   0.15\n",
       "8        True                   top_10  reputational   0.70\n",
       "9        True         random_companies      societal   0.85\n",
       "10       True  random_risk_no_business      societal   0.70\n",
       "11       True                   top_10      societal   0.80"
      ]
     },
     "execution_count": 400,
     "metadata": {},
     "output_type": "execute_result"
    }
   ],
   "source": [
    "grouped_companies_per_label_df_norm"
   ]
  },
  {
   "cell_type": "code",
   "execution_count": 466,
   "metadata": {},
   "outputs": [
    {
     "data": {
      "image/png": "[encoded data removed]",
      "text/plain": [
       "<Figure size 640x480 with 1 Axes>"
      ]
     },
     "metadata": {},
     "output_type": "display_data"
    }
   ],
   "source": [
    "sns.barplot(data = grouped_companies_per_label_df_norm, x='variable', y='value', hue='group', palette='Set2')\n",
    "# relabel axes \n",
    "import matplotlib.pyplot as plt\n",
    "plt.xlabel('Risk Category')\n",
    "plt.ylabel('Proportion of Companies')\n",
    "plt.savefig('../figures/companies_per_label_plot.jpg', dpi=300)"
   ]
  },
  {
   "cell_type": "code",
   "execution_count": 432,
   "metadata": {},
   "outputs": [],
   "source": [
    "granular_companies_per_label_df_norm = companies_per_label_df.iloc[:, :8]/20\n",
    "\n",
    "granular_companies_per_label_df_norm.loc[(slice(None), 'top_10'), :] = granular_companies_per_label_df_norm *2\n",
    "granular_companies_per_label_df_norm = granular_companies_per_label_df_norm.reset_index().rename(columns={'level_0': 'mentioned'})\n",
    "granular_companies_per_label_df_norm = granular_companies_per_label_df_norm[granular_companies_per_label_df_norm.mentioned==1]\n",
    "granular_companies_per_label_df_norm = granular_companies_per_label_df_norm.melt(id_vars=['mentioned', 'group'], value_vars=['Compliance costs', 'Legal uncertainty', 'Legal actions', 'IP', 'Other legal', \"Rapid developments\", \"Large investments\", \"Other competitive\"])\n"
   ]
  },
  {
   "cell_type": "code",
   "execution_count": 433,
   "metadata": {},
   "outputs": [],
   "source": [
    "granular_companies_per_label_df_norm.loc[granular_companies_per_label_df_norm.variable.isin(legal_labels), 'risk_type'] = 'Legal Risks'\n",
    "granular_companies_per_label_df_norm.loc[granular_companies_per_label_df_norm.variable.isin(competition_labels), 'risk_type'] = 'Competitive Risks'"
   ]
  },
  {
   "cell_type": "code",
   "execution_count": 479,
   "metadata": {},
   "outputs": [
    {
     "data": {
      "image/png": "[encoded data removed]",
      "text/plain": [
       "<Figure size 1000x600 with 2 Axes>"
      ]
     },
     "metadata": {},
     "output_type": "display_data"
    }
   ],
   "source": [
    "fig, ax = plt.subplots(1,2, figsize=(10, 6))\n",
    "sns.barplot(data = granular_companies_per_label_df_norm[granular_companies_per_label_df_norm.risk_type=='Legal Risks'], y='variable', x='value', hue='group', palette='Set2', ax=ax[0])\n",
    "sns.barplot(data = granular_companies_per_label_df_norm[granular_companies_per_label_df_norm.risk_type=='Competitive Risks'], y='variable', x='value', hue='group', palette='Set2', ax=ax[1])\n",
    "# relabel axes \n",
    "import matplotlib.pyplot as plt\n",
    "ax[0].set_xlabel('Risk Category')\n",
    "ax[1].set_xlabel('Risk Category')\n",
    "ax[0].set_ylabel('Proportion of Companies')\n",
    "ax[0].set_xlim(0, 1)\n",
    "ax[1].set_xlim(0, 1)\n",
    "\n",
    "# Disble legend \n",
    "plt.tight_layout()\n",
    "# Rotate x-axis labels\n",
    "plt.savefig('../figures/companies_per_sublabel.jpg', dpi=300)"
   ]
  },
  {
   "cell_type": "code",
   "execution_count": 470,
   "metadata": {},
   "outputs": [],
   "source": [
    "granular_companies_per_domain_df_norm = per_domain/20\n",
    "\n",
    "granular_companies_per_domain_df_norm.loc[(slice(None), 'top_10'), :] = granular_companies_per_domain_df_norm *2\n",
    "granular_companies_per_domain_df_norm = granular_companies_per_domain_df_norm.reset_index().rename(columns={'level_0': 'mentioned'})"
   ]
  },
  {
   "cell_type": "code",
   "execution_count": 472,
   "metadata": {},
   "outputs": [
    {
     "data": {
      "text/html": [
       "<div>\n",
       "<style scoped>\n",
       "    .dataframe tbody tr th:only-of-type {\n",
       "        vertical-align: middle;\n",
       "    }\n",
       "\n",
       "    .dataframe tbody tr th {\n",
       "        vertical-align: top;\n",
       "    }\n",
       "\n",
       "    .dataframe thead th {\n",
       "        text-align: right;\n",
       "    }\n",
       "</style>\n",
       "<table border=\"1\" class=\"dataframe\">\n",
       "  <thead>\n",
       "    <tr style=\"text-align: right;\">\n",
       "      <th></th>\n",
       "      <th>Domain</th>\n",
       "      <th>group</th>\n",
       "      <th>cik</th>\n",
       "    </tr>\n",
       "  </thead>\n",
       "  <tbody>\n",
       "    <tr>\n",
       "      <th>0</th>\n",
       "      <td>1. Discrimination &amp; Toxicity</td>\n",
       "      <td>random_companies</td>\n",
       "      <td>0.30</td>\n",
       "    </tr>\n",
       "    <tr>\n",
       "      <th>1</th>\n",
       "      <td>1. Discrimination &amp; Toxicity</td>\n",
       "      <td>random_risk_no_business</td>\n",
       "      <td>0.15</td>\n",
       "    </tr>\n",
       "    <tr>\n",
       "      <th>2</th>\n",
       "      <td>1. Discrimination &amp; Toxicity</td>\n",
       "      <td>top_10</td>\n",
       "      <td>0.30</td>\n",
       "    </tr>\n",
       "    <tr>\n",
       "      <th>3</th>\n",
       "      <td>2. Privacy &amp; Security</td>\n",
       "      <td>random_companies</td>\n",
       "      <td>0.35</td>\n",
       "    </tr>\n",
       "    <tr>\n",
       "      <th>4</th>\n",
       "      <td>2. Privacy &amp; Security</td>\n",
       "      <td>random_risk_no_business</td>\n",
       "      <td>0.40</td>\n",
       "    </tr>\n",
       "    <tr>\n",
       "      <th>5</th>\n",
       "      <td>2. Privacy &amp; Security</td>\n",
       "      <td>top_10</td>\n",
       "      <td>0.40</td>\n",
       "    </tr>\n",
       "    <tr>\n",
       "      <th>6</th>\n",
       "      <td>3. Misinformation</td>\n",
       "      <td>random_companies</td>\n",
       "      <td>0.10</td>\n",
       "    </tr>\n",
       "    <tr>\n",
       "      <th>7</th>\n",
       "      <td>3. Misinformation</td>\n",
       "      <td>top_10</td>\n",
       "      <td>0.50</td>\n",
       "    </tr>\n",
       "    <tr>\n",
       "      <th>8</th>\n",
       "      <td>4. Malicious Actors &amp; Misuse</td>\n",
       "      <td>random_companies</td>\n",
       "      <td>0.60</td>\n",
       "    </tr>\n",
       "    <tr>\n",
       "      <th>9</th>\n",
       "      <td>4. Malicious Actors &amp; Misuse</td>\n",
       "      <td>random_risk_no_business</td>\n",
       "      <td>0.60</td>\n",
       "    </tr>\n",
       "    <tr>\n",
       "      <th>10</th>\n",
       "      <td>4. Malicious Actors &amp; Misuse</td>\n",
       "      <td>top_10</td>\n",
       "      <td>0.40</td>\n",
       "    </tr>\n",
       "    <tr>\n",
       "      <th>11</th>\n",
       "      <td>6. Socioeconomic and Environmental</td>\n",
       "      <td>random_companies</td>\n",
       "      <td>0.05</td>\n",
       "    </tr>\n",
       "    <tr>\n",
       "      <th>12</th>\n",
       "      <td>7. AI System Safety, Failures, &amp; Limitations</td>\n",
       "      <td>random_companies</td>\n",
       "      <td>0.45</td>\n",
       "    </tr>\n",
       "    <tr>\n",
       "      <th>13</th>\n",
       "      <td>7. AI System Safety, Failures, &amp; Limitations</td>\n",
       "      <td>random_risk_no_business</td>\n",
       "      <td>0.35</td>\n",
       "    </tr>\n",
       "    <tr>\n",
       "      <th>14</th>\n",
       "      <td>7. AI System Safety, Failures, &amp; Limitations</td>\n",
       "      <td>top_10</td>\n",
       "      <td>0.40</td>\n",
       "    </tr>\n",
       "  </tbody>\n",
       "</table>\n",
       "</div>"
      ],
      "text/plain": [
       "                                          Domain                    group  \\\n",
       "0                   1. Discrimination & Toxicity         random_companies   \n",
       "1                   1. Discrimination & Toxicity  random_risk_no_business   \n",
       "2                   1. Discrimination & Toxicity                   top_10   \n",
       "3                          2. Privacy & Security         random_companies   \n",
       "4                          2. Privacy & Security  random_risk_no_business   \n",
       "5                          2. Privacy & Security                   top_10   \n",
       "6                              3. Misinformation         random_companies   \n",
       "7                              3. Misinformation                   top_10   \n",
       "8                   4. Malicious Actors & Misuse         random_companies   \n",
       "9                   4. Malicious Actors & Misuse  random_risk_no_business   \n",
       "10                  4. Malicious Actors & Misuse                   top_10   \n",
       "11            6. Socioeconomic and Environmental         random_companies   \n",
       "12  7. AI System Safety, Failures, & Limitations         random_companies   \n",
       "13  7. AI System Safety, Failures, & Limitations  random_risk_no_business   \n",
       "14  7. AI System Safety, Failures, & Limitations                   top_10   \n",
       "\n",
       "     cik  \n",
       "0   0.30  \n",
       "1   0.15  \n",
       "2   0.30  \n",
       "3   0.35  \n",
       "4   0.40  \n",
       "5   0.40  \n",
       "6   0.10  \n",
       "7   0.50  \n",
       "8   0.60  \n",
       "9   0.60  \n",
       "10  0.40  \n",
       "11  0.05  \n",
       "12  0.45  \n",
       "13  0.35  \n",
       "14  0.40  "
      ]
     },
     "execution_count": 472,
     "metadata": {},
     "output_type": "execute_result"
    }
   ],
   "source": [
    "granular_companies_per_domain_df_norm"
   ]
  },
  {
   "cell_type": "code",
   "execution_count": 478,
   "metadata": {},
   "outputs": [
    {
     "data": {
      "image/png": "[encoded data removed]",
      "text/plain": [
       "<Figure size 640x480 with 1 Axes>"
      ]
     },
     "metadata": {},
     "output_type": "display_data"
    }
   ],
   "source": [
    "sns.barplot(data = granular_companies_per_domain_df_norm, y='Domain', x='cik', hue='group', palette='Set2')\n",
    "# relabel axes \n",
    "import matplotlib.pyplot as plt\n",
    "plt.ylabel('Risk Domain')\n",
    "plt.xlabel('Proportion of Companies')\n",
    "plt.savefig('../figures/companies_per_domain_plot.jpg', dpi=300)"
   ]
  },
  {
   "cell_type": "markdown",
   "metadata": {},
   "source": [
    "# Leuven"
   ]
  },
  {
   "cell_type": "code",
   "execution_count": 79,
   "metadata": {},
   "outputs": [],
   "source": [
    "bram_labels = pd.read_excel('../datasets/labels/final_bram_ai_mentions.xlsx')\n",
    "lucas_labels = pd.read_excel('../datasets/labels/final_lucas_ai_mentions.xlsx')"
   ]
  },
  {
   "cell_type": "code",
   "execution_count": 82,
   "metadata": {},
   "outputs": [],
   "source": [
    "bram_actual_labels = bram_labels[(bram_labels.top_10==True) & ((bram_labels.reporting_year==2025)|((bram_labels.reporting_year==2024) & (bram_labels.cik != 1045810))) & (bram_labels.match_field=='1A_matches') ].drop_duplicates(subset= ['sentence', 'cik'])\n",
    "lucas_actual_labels = lucas_labels[(lucas_labels.top_10==True) & ((lucas_labels.reporting_year==2025)|((lucas_labels.reporting_year==2024) & (lucas_labels.cik != 1045810))) & (lucas_labels.match_field=='1A_matches') ].drop_duplicates(subset=[ 'sentence', 'cik'])"
   ]
  },
  {
   "cell_type": "code",
   "execution_count": 93,
   "metadata": {},
   "outputs": [
    {
     "data": {
      "text/plain": [
       "0.2111111111111111"
      ]
     },
     "execution_count": 93,
     "metadata": {},
     "output_type": "execute_result"
    }
   ],
   "source": [
    "# 38 societal risks \n",
    "38/ len(bram_actual_labels[bram_actual_labels[\"Not an AI risk\"] ==0])"
   ]
  },
  {
   "cell_type": "code",
   "execution_count": 71,
   "metadata": {},
   "outputs": [],
   "source": [
    "combined_labels = bram_actual_labels.join(lucas_actual_labels, lsuffix='_bram', rsuffix='_lucas', how='inner')"
   ]
  },
  {
   "cell_type": "code",
   "execution_count": 72,
   "metadata": {},
   "outputs": [],
   "source": [
    "# Comparison between bram and lucas labels\n",
    "legal = combined_labels['Legal_bram'] == combined_labels['Legal_lucas']\n",
    "competitive = combined_labels['Competitive_bram'] == combined_labels['Competitive_lucas']\n",
    "reputational = combined_labels['Reputational_bram'] == combined_labels['Reputational_lucas']\n",
    "societal = combined_labels['Societal_bram'] == combined_labels['Societal_lucas']"
   ]
  },
  {
   "cell_type": "code",
   "execution_count": 73,
   "metadata": {},
   "outputs": [
    {
     "name": "stdout",
     "output_type": "stream",
     "text": [
      "The agreement in legal labels is 90.00%\n",
      "The agreement in competitive labels is 65.00%\n",
      "The agreement in reputational labels is 90.00%\n",
      "The agreement in societal labels is 91.00%\n"
     ]
    }
   ],
   "source": [
    "print(f\"The agreement in legal labels is {legal.sum()/len(legal)*100:.2f}%\")\n",
    "print(f\"The agreement in competitive labels is {competitive.sum()/len(competitive)*100:.2f}%\")\n",
    "print(f\"The agreement in reputational labels is {reputational.sum()/len(reputational)*100:.2f}%\")\n",
    "print(f\"The agreement in societal labels is {societal.sum()/len(societal)*100:.2f}%\")"
   ]
  },
  {
   "cell_type": "code",
   "execution_count": 74,
   "metadata": {},
   "outputs": [
    {
     "name": "stdout",
     "output_type": "stream",
     "text": [
      "For Lucas' labels, there are 39.50% legal mentions, 27.50% competitive mentions, 13.50% reputational mentions and 15.00% societal mentions, and 30.50% mentions that are not an AI risk.\n",
      "For Bram's labels, there are 44.50% legal mentions, 49.50% competitive mentions, 14.50% reputational mentions and 18.00% societal mentions, and 10.00% mentions that are not an AI risk.\n"
     ]
    }
   ],
   "source": [
    "print(f\"For Lucas' labels, there are {combined_labels.Legal_lucas.sum()/len(combined_labels)*100:.2f}% legal mentions, {combined_labels.Competitive_lucas.sum()/len(combined_labels)*100:.2f}% competitive mentions, {combined_labels.Reputational_lucas.sum()/len(combined_labels)*100:.2f}% reputational mentions and {combined_labels.Societal_lucas.sum()/len(combined_labels)*100:.2f}% societal mentions, and {combined_labels['Not an AI risk_lucas'].sum()/len(combined_labels)*100:.2f}% mentions that are not an AI risk.\")\n",
    "print(f\"For Bram's labels, there are {combined_labels.Legal_bram.sum()/len(combined_labels)*100:.2f}% legal mentions, {combined_labels.Competitive_bram.sum()/len(combined_labels)*100:.2f}% competitive mentions, {combined_labels.Reputational_bram.sum()/len(combined_labels)*100:.2f}% reputational mentions and {combined_labels.Societal_bram.sum()/len(combined_labels)*100:.2f}% societal mentions, and {combined_labels['Not an AI risk_bram'].sum()/len(combined_labels)*100:.2f}% mentions that are not an AI risk.\")"
   ]
  },
  {
   "cell_type": "code",
   "execution_count": 75,
   "metadata": {},
   "outputs": [],
   "source": [
    "societal.to_excel('../datasets/labels/combined_societal_mentions.xlsx', index=False)"
   ]
  },
  {
   "cell_type": "markdown",
   "metadata": {},
   "source": []
  }
 ],
 "metadata": {
  "kernelspec": {
   "display_name": "edgar_crawler",
   "language": "python",
   "name": "python3"
  },
  "language_info": {
   "codemirror_mode": {
    "name": "ipython",
    "version": 3
   },
   "file_extension": ".py",
   "mimetype": "text/x-python",
   "name": "python",
   "nbconvert_exporter": "python",
   "pygments_lexer": "ipython3",
   "version": "3.8.20"
  }
 },
 "nbformat": 4,
 "nbformat_minor": 2
}
