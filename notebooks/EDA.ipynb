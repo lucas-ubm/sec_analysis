{
 "cells": [
  {
   "cell_type": "code",
   "execution_count": 1,
   "metadata": {},
   "outputs": [],
   "source": [
    "import pandas as pd\n",
    "import seaborn as sns\n",
    "import matplotlib.pyplot as plt\n"
   ]
  },
  {
   "cell_type": "code",
   "execution_count": 2,
   "metadata": {},
   "outputs": [],
   "source": [
    "filings_metadata = pd.read_csv(r'C:\\Users\\P70088982\\Documents\\edgar-crawler\\datasets\\filings_metadata.csv')\n",
    "filings_metadata['SIC'] = filings_metadata['SIC'].fillna(0).astype(int)"
   ]
  },
  {
   "cell_type": "markdown",
   "metadata": {},
   "source": [
    "# Companies over time"
   ]
  },
  {
   "cell_type": "code",
   "execution_count": 3,
   "metadata": {},
   "outputs": [],
   "source": [
    "filings_metadata['Period of Report'] = pd.to_datetime(filings_metadata['Period of Report'], format='%Y-%m-%d')\n",
    "filings_metadata['Filing Date'] = pd.to_datetime(filings_metadata['Filing Date'], format='%Y-%m-%d')\n",
    "filings_metadata['reporting_year'] = filings_metadata['Period of Report'].dt.year\n"
   ]
  },
  {
   "cell_type": "code",
   "execution_count": 265,
   "metadata": {},
   "outputs": [],
   "source": [
    "filings_metadata['reporting_month'] = filings_metadata['Period of Report'].dt.month"
   ]
  },
  {
   "cell_type": "code",
   "execution_count": null,
   "metadata": {},
   "outputs": [],
   "source": []
  },
  {
   "cell_type": "code",
   "execution_count": 280,
   "metadata": {},
   "outputs": [
    {
     "data": {
      "text/plain": [
       "0.8892929880709921"
      ]
     },
     "execution_count": 280,
     "metadata": {},
     "output_type": "execute_result"
    }
   ],
   "source": [
    "filings_metadata[filings_metadata.filing_year==2024].groupby('reporting_month').count()[['CIK']].tail(6).CIK.sum()/filings_metadata[filings_metadata.filing_year==2024].groupby('reporting_month').count()[['CIK']].CIK.sum()"
   ]
  },
  {
   "cell_type": "code",
   "execution_count": 281,
   "metadata": {},
   "outputs": [
    {
     "data": {
      "text/html": [
       "<div>\n",
       "<style scoped>\n",
       "    .dataframe tbody tr th:only-of-type {\n",
       "        vertical-align: middle;\n",
       "    }\n",
       "\n",
       "    .dataframe tbody tr th {\n",
       "        vertical-align: top;\n",
       "    }\n",
       "\n",
       "    .dataframe thead th {\n",
       "        text-align: right;\n",
       "    }\n",
       "</style>\n",
       "<table border=\"1\" class=\"dataframe\">\n",
       "  <thead>\n",
       "    <tr style=\"text-align: right;\">\n",
       "      <th></th>\n",
       "      <th>CIK</th>\n",
       "    </tr>\n",
       "    <tr>\n",
       "      <th>reporting_month</th>\n",
       "      <th></th>\n",
       "    </tr>\n",
       "  </thead>\n",
       "  <tbody>\n",
       "    <tr>\n",
       "      <th>7</th>\n",
       "      <td>60</td>\n",
       "    </tr>\n",
       "    <tr>\n",
       "      <th>8</th>\n",
       "      <td>51</td>\n",
       "    </tr>\n",
       "    <tr>\n",
       "      <th>9</th>\n",
       "      <td>243</td>\n",
       "    </tr>\n",
       "    <tr>\n",
       "      <th>10</th>\n",
       "      <td>62</td>\n",
       "    </tr>\n",
       "    <tr>\n",
       "      <th>11</th>\n",
       "      <td>41</td>\n",
       "    </tr>\n",
       "    <tr>\n",
       "      <th>12</th>\n",
       "      <td>5656</td>\n",
       "    </tr>\n",
       "  </tbody>\n",
       "</table>\n",
       "</div>"
      ],
      "text/plain": [
       "                  CIK\n",
       "reporting_month      \n",
       "7                  60\n",
       "8                  51\n",
       "9                 243\n",
       "10                 62\n",
       "11                 41\n",
       "12               5656"
      ]
     },
     "execution_count": 281,
     "metadata": {},
     "output_type": "execute_result"
    }
   ],
   "source": [
    "filings_metadata[filings_metadata.filing_year==2024].groupby('reporting_month').count()[['CIK']].tail(6)\n"
   ]
  },
  {
   "cell_type": "code",
   "execution_count": 278,
   "metadata": {},
   "outputs": [
    {
     "data": {
      "text/html": [
       "<div>\n",
       "<style scoped>\n",
       "    .dataframe tbody tr th:only-of-type {\n",
       "        vertical-align: middle;\n",
       "    }\n",
       "\n",
       "    .dataframe tbody tr th {\n",
       "        vertical-align: top;\n",
       "    }\n",
       "\n",
       "    .dataframe thead th {\n",
       "        text-align: right;\n",
       "    }\n",
       "</style>\n",
       "<table border=\"1\" class=\"dataframe\">\n",
       "  <thead>\n",
       "    <tr style=\"text-align: right;\">\n",
       "      <th></th>\n",
       "      <th>CIK</th>\n",
       "    </tr>\n",
       "    <tr>\n",
       "      <th>reporting_month</th>\n",
       "      <th></th>\n",
       "    </tr>\n",
       "  </thead>\n",
       "  <tbody>\n",
       "    <tr>\n",
       "      <th>1</th>\n",
       "      <td>85</td>\n",
       "    </tr>\n",
       "    <tr>\n",
       "      <th>2</th>\n",
       "      <td>114</td>\n",
       "    </tr>\n",
       "    <tr>\n",
       "      <th>3</th>\n",
       "      <td>202</td>\n",
       "    </tr>\n",
       "    <tr>\n",
       "      <th>4</th>\n",
       "      <td>61</td>\n",
       "    </tr>\n",
       "    <tr>\n",
       "      <th>5</th>\n",
       "      <td>48</td>\n",
       "    </tr>\n",
       "    <tr>\n",
       "      <th>6</th>\n",
       "      <td>251</td>\n",
       "    </tr>\n",
       "    <tr>\n",
       "      <th>7</th>\n",
       "      <td>60</td>\n",
       "    </tr>\n",
       "    <tr>\n",
       "      <th>8</th>\n",
       "      <td>51</td>\n",
       "    </tr>\n",
       "    <tr>\n",
       "      <th>9</th>\n",
       "      <td>243</td>\n",
       "    </tr>\n",
       "    <tr>\n",
       "      <th>10</th>\n",
       "      <td>62</td>\n",
       "    </tr>\n",
       "    <tr>\n",
       "      <th>11</th>\n",
       "      <td>41</td>\n",
       "    </tr>\n",
       "    <tr>\n",
       "      <th>12</th>\n",
       "      <td>5656</td>\n",
       "    </tr>\n",
       "  </tbody>\n",
       "</table>\n",
       "</div>"
      ],
      "text/plain": [
       "                  CIK\n",
       "reporting_month      \n",
       "1                  85\n",
       "2                 114\n",
       "3                 202\n",
       "4                  61\n",
       "5                  48\n",
       "6                 251\n",
       "7                  60\n",
       "8                  51\n",
       "9                 243\n",
       "10                 62\n",
       "11                 41\n",
       "12               5656"
      ]
     },
     "execution_count": 278,
     "metadata": {},
     "output_type": "execute_result"
    }
   ],
   "source": [
    "filings_metadata['filing_year'] = filings_metadata['Filing Date'].dt.year\n",
    "filings_metadata[filings_metadata.filing_year==2024].groupby('reporting_month').count()[['CIK']]"
   ]
  },
  {
   "cell_type": "code",
   "execution_count": 276,
   "metadata": {},
   "outputs": [
    {
     "data": {
      "text/html": [
       "<div>\n",
       "<style scoped>\n",
       "    .dataframe tbody tr th:only-of-type {\n",
       "        vertical-align: middle;\n",
       "    }\n",
       "\n",
       "    .dataframe tbody tr th {\n",
       "        vertical-align: top;\n",
       "    }\n",
       "\n",
       "    .dataframe thead th {\n",
       "        text-align: right;\n",
       "    }\n",
       "</style>\n",
       "<table border=\"1\" class=\"dataframe\">\n",
       "  <thead>\n",
       "    <tr style=\"text-align: right;\">\n",
       "      <th></th>\n",
       "      <th>CIK</th>\n",
       "      <th>Company</th>\n",
       "      <th>Type</th>\n",
       "      <th>Date</th>\n",
       "      <th>complete_text_file_link</th>\n",
       "      <th>html_index</th>\n",
       "      <th>Filing Date</th>\n",
       "      <th>Period of Report</th>\n",
       "      <th>SIC</th>\n",
       "      <th>htm_file_link</th>\n",
       "      <th>State of Inc</th>\n",
       "      <th>State location</th>\n",
       "      <th>Fiscal Year End</th>\n",
       "      <th>filename</th>\n",
       "      <th>reporting_year</th>\n",
       "      <th>submission_length</th>\n",
       "      <th>reporting_month</th>\n",
       "      <th>filing_year</th>\n",
       "    </tr>\n",
       "  </thead>\n",
       "  <tbody>\n",
       "    <tr>\n",
       "      <th>29108</th>\n",
       "      <td>1000209</td>\n",
       "      <td>MEDALLION FINANCIAL CORP</td>\n",
       "      <td>10-K</td>\n",
       "      <td>2024-03-07</td>\n",
       "      <td>https://www.sec.gov/Archives/edgar/data/100020...</td>\n",
       "      <td>https://www.sec.gov/Archives/edgar/data/100020...</td>\n",
       "      <td>2024-03-07</td>\n",
       "      <td>2023-12-31</td>\n",
       "      <td>6199</td>\n",
       "      <td>https://www.sec.gov/Archives/edgar/data/100020...</td>\n",
       "      <td>DE</td>\n",
       "      <td>NY</td>\n",
       "      <td>1231.0</td>\n",
       "      <td>1000209_10K_2023_0000950170-24-027942.htm</td>\n",
       "      <td>2023</td>\n",
       "      <td>67</td>\n",
       "      <td>12</td>\n",
       "      <td>2024</td>\n",
       "    </tr>\n",
       "    <tr>\n",
       "      <th>29109</th>\n",
       "      <td>1000228</td>\n",
       "      <td>HENRY SCHEIN INC</td>\n",
       "      <td>10-K</td>\n",
       "      <td>2024-02-28</td>\n",
       "      <td>https://www.sec.gov/Archives/edgar/data/100022...</td>\n",
       "      <td>https://www.sec.gov/Archives/edgar/data/100022...</td>\n",
       "      <td>2024-02-28</td>\n",
       "      <td>2023-12-30</td>\n",
       "      <td>5047</td>\n",
       "      <td>https://www.sec.gov/Archives/edgar/data/100022...</td>\n",
       "      <td>DE</td>\n",
       "      <td>NY</td>\n",
       "      <td>1230.0</td>\n",
       "      <td>1000228_10K_2023_0001000228-24-000011.htm</td>\n",
       "      <td>2023</td>\n",
       "      <td>60</td>\n",
       "      <td>12</td>\n",
       "      <td>2024</td>\n",
       "    </tr>\n",
       "    <tr>\n",
       "      <th>29110</th>\n",
       "      <td>1000623</td>\n",
       "      <td>Mativ Holdings, Inc.</td>\n",
       "      <td>10-K</td>\n",
       "      <td>2024-02-29</td>\n",
       "      <td>https://www.sec.gov/Archives/edgar/data/100062...</td>\n",
       "      <td>https://www.sec.gov/Archives/edgar/data/100062...</td>\n",
       "      <td>2024-02-29</td>\n",
       "      <td>2023-12-31</td>\n",
       "      <td>2621</td>\n",
       "      <td>https://www.sec.gov/Archives/edgar/data/100062...</td>\n",
       "      <td>DE</td>\n",
       "      <td>GA</td>\n",
       "      <td>1231.0</td>\n",
       "      <td>1000623_10K_2023_0001000623-24-000009.htm</td>\n",
       "      <td>2023</td>\n",
       "      <td>60</td>\n",
       "      <td>12</td>\n",
       "      <td>2024</td>\n",
       "    </tr>\n",
       "    <tr>\n",
       "      <th>29111</th>\n",
       "      <td>1000694</td>\n",
       "      <td>NOVAVAX INC</td>\n",
       "      <td>10-K</td>\n",
       "      <td>2024-02-28</td>\n",
       "      <td>https://www.sec.gov/Archives/edgar/data/100069...</td>\n",
       "      <td>https://www.sec.gov/Archives/edgar/data/100069...</td>\n",
       "      <td>2024-02-28</td>\n",
       "      <td>2023-12-31</td>\n",
       "      <td>2836</td>\n",
       "      <td>https://www.sec.gov/Archives/edgar/data/100069...</td>\n",
       "      <td>DE</td>\n",
       "      <td>MD</td>\n",
       "      <td>1231.0</td>\n",
       "      <td>1000694_10K_2023_0001000694-24-000007.htm</td>\n",
       "      <td>2023</td>\n",
       "      <td>59</td>\n",
       "      <td>12</td>\n",
       "      <td>2024</td>\n",
       "    </tr>\n",
       "    <tr>\n",
       "      <th>29112</th>\n",
       "      <td>1000697</td>\n",
       "      <td>WATERS CORP /DE/</td>\n",
       "      <td>10-K</td>\n",
       "      <td>2024-02-27</td>\n",
       "      <td>https://www.sec.gov/Archives/edgar/data/100069...</td>\n",
       "      <td>https://www.sec.gov/Archives/edgar/data/100069...</td>\n",
       "      <td>2024-02-27</td>\n",
       "      <td>2023-12-31</td>\n",
       "      <td>3826</td>\n",
       "      <td>https://www.sec.gov/Archives/edgar/data/100069...</td>\n",
       "      <td>DE</td>\n",
       "      <td>MA</td>\n",
       "      <td>1231.0</td>\n",
       "      <td>1000697_10K_2023_0001193125-24-047491.htm</td>\n",
       "      <td>2023</td>\n",
       "      <td>58</td>\n",
       "      <td>12</td>\n",
       "      <td>2024</td>\n",
       "    </tr>\n",
       "    <tr>\n",
       "      <th>...</th>\n",
       "      <td>...</td>\n",
       "      <td>...</td>\n",
       "      <td>...</td>\n",
       "      <td>...</td>\n",
       "      <td>...</td>\n",
       "      <td>...</td>\n",
       "      <td>...</td>\n",
       "      <td>...</td>\n",
       "      <td>...</td>\n",
       "      <td>...</td>\n",
       "      <td>...</td>\n",
       "      <td>...</td>\n",
       "      <td>...</td>\n",
       "      <td>...</td>\n",
       "      <td>...</td>\n",
       "      <td>...</td>\n",
       "      <td>...</td>\n",
       "      <td>...</td>\n",
       "    </tr>\n",
       "    <tr>\n",
       "      <th>35981</th>\n",
       "      <td>928465</td>\n",
       "      <td>AMCON DISTRIBUTING CO</td>\n",
       "      <td>10-K</td>\n",
       "      <td>2024-11-08</td>\n",
       "      <td>https://www.sec.gov/Archives/edgar/data/928465...</td>\n",
       "      <td>https://www.sec.gov/Archives/edgar/data/928465...</td>\n",
       "      <td>2024-11-08</td>\n",
       "      <td>2024-09-30</td>\n",
       "      <td>5141</td>\n",
       "      <td>https://www.sec.gov/Archives/edgar/data/928465...</td>\n",
       "      <td>DE</td>\n",
       "      <td>NE</td>\n",
       "      <td>930.0</td>\n",
       "      <td>928465_10K_2024_0001558370-24-015063.htm</td>\n",
       "      <td>2024</td>\n",
       "      <td>39</td>\n",
       "      <td>9</td>\n",
       "      <td>2024</td>\n",
       "    </tr>\n",
       "    <tr>\n",
       "      <th>35982</th>\n",
       "      <td>933974</td>\n",
       "      <td>Azenta, Inc.</td>\n",
       "      <td>10-K</td>\n",
       "      <td>2024-11-27</td>\n",
       "      <td>https://www.sec.gov/Archives/edgar/data/933974...</td>\n",
       "      <td>https://www.sec.gov/Archives/edgar/data/933974...</td>\n",
       "      <td>2024-11-27</td>\n",
       "      <td>2024-09-30</td>\n",
       "      <td>3559</td>\n",
       "      <td>https://www.sec.gov/Archives/edgar/data/933974...</td>\n",
       "      <td>DE</td>\n",
       "      <td>MA</td>\n",
       "      <td>930.0</td>\n",
       "      <td>933974_10K_2024_0001437749-24-036289.htm</td>\n",
       "      <td>2024</td>\n",
       "      <td>58</td>\n",
       "      <td>9</td>\n",
       "      <td>2024</td>\n",
       "    </tr>\n",
       "    <tr>\n",
       "      <th>35983</th>\n",
       "      <td>935419</td>\n",
       "      <td>RCI HOSPITALITY HOLDINGS, INC.</td>\n",
       "      <td>10-K</td>\n",
       "      <td>2024-12-16</td>\n",
       "      <td>https://www.sec.gov/Archives/edgar/data/935419...</td>\n",
       "      <td>https://www.sec.gov/Archives/edgar/data/935419...</td>\n",
       "      <td>2024-12-16</td>\n",
       "      <td>2024-09-30</td>\n",
       "      <td>5812</td>\n",
       "      <td>https://www.sec.gov/Archives/edgar/data/935419...</td>\n",
       "      <td>TX</td>\n",
       "      <td>TX</td>\n",
       "      <td>930.0</td>\n",
       "      <td>935419_10K_2024_0001628280-24-051384.htm</td>\n",
       "      <td>2024</td>\n",
       "      <td>77</td>\n",
       "      <td>9</td>\n",
       "      <td>2024</td>\n",
       "    </tr>\n",
       "    <tr>\n",
       "      <th>35984</th>\n",
       "      <td>936395</td>\n",
       "      <td>CIENA CORP</td>\n",
       "      <td>10-K</td>\n",
       "      <td>2024-12-20</td>\n",
       "      <td>https://www.sec.gov/Archives/edgar/data/936395...</td>\n",
       "      <td>https://www.sec.gov/Archives/edgar/data/936395...</td>\n",
       "      <td>2024-12-20</td>\n",
       "      <td>2024-11-02</td>\n",
       "      <td>3661</td>\n",
       "      <td>https://www.sec.gov/Archives/edgar/data/936395...</td>\n",
       "      <td>MD</td>\n",
       "      <td>MD</td>\n",
       "      <td>1102.0</td>\n",
       "      <td>936395_10K_2024_0000936395-24-000044.htm</td>\n",
       "      <td>2024</td>\n",
       "      <td>48</td>\n",
       "      <td>11</td>\n",
       "      <td>2024</td>\n",
       "    </tr>\n",
       "    <tr>\n",
       "      <th>35985</th>\n",
       "      <td>936528</td>\n",
       "      <td>WAFD INC</td>\n",
       "      <td>10-K</td>\n",
       "      <td>2024-11-20</td>\n",
       "      <td>https://www.sec.gov/Archives/edgar/data/936528...</td>\n",
       "      <td>https://www.sec.gov/Archives/edgar/data/936528...</td>\n",
       "      <td>2024-11-20</td>\n",
       "      <td>2024-09-30</td>\n",
       "      <td>6021</td>\n",
       "      <td>https://www.sec.gov/Archives/edgar/data/936528...</td>\n",
       "      <td>WA</td>\n",
       "      <td>WA</td>\n",
       "      <td>930.0</td>\n",
       "      <td>936528_10K_2024_0000936528-24-000164.htm</td>\n",
       "      <td>2024</td>\n",
       "      <td>51</td>\n",
       "      <td>9</td>\n",
       "      <td>2024</td>\n",
       "    </tr>\n",
       "  </tbody>\n",
       "</table>\n",
       "<p>6874 rows × 18 columns</p>\n",
       "</div>"
      ],
      "text/plain": [
       "           CIK                         Company  Type        Date  \\\n",
       "29108  1000209        MEDALLION FINANCIAL CORP  10-K  2024-03-07   \n",
       "29109  1000228                HENRY SCHEIN INC  10-K  2024-02-28   \n",
       "29110  1000623            Mativ Holdings, Inc.  10-K  2024-02-29   \n",
       "29111  1000694                     NOVAVAX INC  10-K  2024-02-28   \n",
       "29112  1000697                WATERS CORP /DE/  10-K  2024-02-27   \n",
       "...        ...                             ...   ...         ...   \n",
       "35981   928465           AMCON DISTRIBUTING CO  10-K  2024-11-08   \n",
       "35982   933974                    Azenta, Inc.  10-K  2024-11-27   \n",
       "35983   935419  RCI HOSPITALITY HOLDINGS, INC.  10-K  2024-12-16   \n",
       "35984   936395                      CIENA CORP  10-K  2024-12-20   \n",
       "35985   936528                        WAFD INC  10-K  2024-11-20   \n",
       "\n",
       "                                 complete_text_file_link  \\\n",
       "29108  https://www.sec.gov/Archives/edgar/data/100020...   \n",
       "29109  https://www.sec.gov/Archives/edgar/data/100022...   \n",
       "29110  https://www.sec.gov/Archives/edgar/data/100062...   \n",
       "29111  https://www.sec.gov/Archives/edgar/data/100069...   \n",
       "29112  https://www.sec.gov/Archives/edgar/data/100069...   \n",
       "...                                                  ...   \n",
       "35981  https://www.sec.gov/Archives/edgar/data/928465...   \n",
       "35982  https://www.sec.gov/Archives/edgar/data/933974...   \n",
       "35983  https://www.sec.gov/Archives/edgar/data/935419...   \n",
       "35984  https://www.sec.gov/Archives/edgar/data/936395...   \n",
       "35985  https://www.sec.gov/Archives/edgar/data/936528...   \n",
       "\n",
       "                                              html_index Filing Date  \\\n",
       "29108  https://www.sec.gov/Archives/edgar/data/100020...  2024-03-07   \n",
       "29109  https://www.sec.gov/Archives/edgar/data/100022...  2024-02-28   \n",
       "29110  https://www.sec.gov/Archives/edgar/data/100062...  2024-02-29   \n",
       "29111  https://www.sec.gov/Archives/edgar/data/100069...  2024-02-28   \n",
       "29112  https://www.sec.gov/Archives/edgar/data/100069...  2024-02-27   \n",
       "...                                                  ...         ...   \n",
       "35981  https://www.sec.gov/Archives/edgar/data/928465...  2024-11-08   \n",
       "35982  https://www.sec.gov/Archives/edgar/data/933974...  2024-11-27   \n",
       "35983  https://www.sec.gov/Archives/edgar/data/935419...  2024-12-16   \n",
       "35984  https://www.sec.gov/Archives/edgar/data/936395...  2024-12-20   \n",
       "35985  https://www.sec.gov/Archives/edgar/data/936528...  2024-11-20   \n",
       "\n",
       "      Period of Report   SIC  \\\n",
       "29108       2023-12-31  6199   \n",
       "29109       2023-12-30  5047   \n",
       "29110       2023-12-31  2621   \n",
       "29111       2023-12-31  2836   \n",
       "29112       2023-12-31  3826   \n",
       "...                ...   ...   \n",
       "35981       2024-09-30  5141   \n",
       "35982       2024-09-30  3559   \n",
       "35983       2024-09-30  5812   \n",
       "35984       2024-11-02  3661   \n",
       "35985       2024-09-30  6021   \n",
       "\n",
       "                                           htm_file_link State of Inc  \\\n",
       "29108  https://www.sec.gov/Archives/edgar/data/100020...           DE   \n",
       "29109  https://www.sec.gov/Archives/edgar/data/100022...           DE   \n",
       "29110  https://www.sec.gov/Archives/edgar/data/100062...           DE   \n",
       "29111  https://www.sec.gov/Archives/edgar/data/100069...           DE   \n",
       "29112  https://www.sec.gov/Archives/edgar/data/100069...           DE   \n",
       "...                                                  ...          ...   \n",
       "35981  https://www.sec.gov/Archives/edgar/data/928465...           DE   \n",
       "35982  https://www.sec.gov/Archives/edgar/data/933974...           DE   \n",
       "35983  https://www.sec.gov/Archives/edgar/data/935419...           TX   \n",
       "35984  https://www.sec.gov/Archives/edgar/data/936395...           MD   \n",
       "35985  https://www.sec.gov/Archives/edgar/data/936528...           WA   \n",
       "\n",
       "      State location  Fiscal Year End  \\\n",
       "29108             NY           1231.0   \n",
       "29109             NY           1230.0   \n",
       "29110             GA           1231.0   \n",
       "29111             MD           1231.0   \n",
       "29112             MA           1231.0   \n",
       "...              ...              ...   \n",
       "35981             NE            930.0   \n",
       "35982             MA            930.0   \n",
       "35983             TX            930.0   \n",
       "35984             MD           1102.0   \n",
       "35985             WA            930.0   \n",
       "\n",
       "                                        filename  reporting_year  \\\n",
       "29108  1000209_10K_2023_0000950170-24-027942.htm            2023   \n",
       "29109  1000228_10K_2023_0001000228-24-000011.htm            2023   \n",
       "29110  1000623_10K_2023_0001000623-24-000009.htm            2023   \n",
       "29111  1000694_10K_2023_0001000694-24-000007.htm            2023   \n",
       "29112  1000697_10K_2023_0001193125-24-047491.htm            2023   \n",
       "...                                          ...             ...   \n",
       "35981   928465_10K_2024_0001558370-24-015063.htm            2024   \n",
       "35982   933974_10K_2024_0001437749-24-036289.htm            2024   \n",
       "35983   935419_10K_2024_0001628280-24-051384.htm            2024   \n",
       "35984   936395_10K_2024_0000936395-24-000044.htm            2024   \n",
       "35985   936528_10K_2024_0000936528-24-000164.htm            2024   \n",
       "\n",
       "       submission_length  reporting_month  filing_year  \n",
       "29108                 67               12         2024  \n",
       "29109                 60               12         2024  \n",
       "29110                 60               12         2024  \n",
       "29111                 59               12         2024  \n",
       "29112                 58               12         2024  \n",
       "...                  ...              ...          ...  \n",
       "35981                 39                9         2024  \n",
       "35982                 58                9         2024  \n",
       "35983                 77                9         2024  \n",
       "35984                 48               11         2024  \n",
       "35985                 51                9         2024  \n",
       "\n",
       "[6874 rows x 18 columns]"
      ]
     },
     "execution_count": 276,
     "metadata": {},
     "output_type": "execute_result"
    }
   ],
   "source": [
    "filings_metadata[filings_metadata.filing_year==2024]"
   ]
  },
  {
   "cell_type": "code",
   "execution_count": 4,
   "metadata": {},
   "outputs": [
    {
     "data": {
      "text/html": [
       "<div>\n",
       "<style scoped>\n",
       "    .dataframe tbody tr th:only-of-type {\n",
       "        vertical-align: middle;\n",
       "    }\n",
       "\n",
       "    .dataframe tbody tr th {\n",
       "        vertical-align: top;\n",
       "    }\n",
       "\n",
       "    .dataframe thead th {\n",
       "        text-align: right;\n",
       "    }\n",
       "</style>\n",
       "<table border=\"1\" class=\"dataframe\">\n",
       "  <thead>\n",
       "    <tr style=\"text-align: right;\">\n",
       "      <th></th>\n",
       "      <th>reporting_year</th>\n",
       "      <th>count</th>\n",
       "      <th>nunique</th>\n",
       "    </tr>\n",
       "  </thead>\n",
       "  <tbody>\n",
       "    <tr>\n",
       "      <th>19</th>\n",
       "      <td>2019</td>\n",
       "      <td>5577</td>\n",
       "      <td>5515</td>\n",
       "    </tr>\n",
       "    <tr>\n",
       "      <th>20</th>\n",
       "      <td>2020</td>\n",
       "      <td>7023</td>\n",
       "      <td>6949</td>\n",
       "    </tr>\n",
       "    <tr>\n",
       "      <th>21</th>\n",
       "      <td>2021</td>\n",
       "      <td>7757</td>\n",
       "      <td>7663</td>\n",
       "    </tr>\n",
       "    <tr>\n",
       "      <th>22</th>\n",
       "      <td>2022</td>\n",
       "      <td>7482</td>\n",
       "      <td>7346</td>\n",
       "    </tr>\n",
       "    <tr>\n",
       "      <th>23</th>\n",
       "      <td>2023</td>\n",
       "      <td>6937</td>\n",
       "      <td>6834</td>\n",
       "    </tr>\n",
       "    <tr>\n",
       "      <th>24</th>\n",
       "      <td>2024</td>\n",
       "      <td>6218</td>\n",
       "      <td>6123</td>\n",
       "    </tr>\n",
       "    <tr>\n",
       "      <th>25</th>\n",
       "      <td>2025</td>\n",
       "      <td>91</td>\n",
       "      <td>91</td>\n",
       "    </tr>\n",
       "  </tbody>\n",
       "</table>\n",
       "</div>"
      ],
      "text/plain": [
       "    reporting_year  count  nunique\n",
       "19            2019   5577     5515\n",
       "20            2020   7023     6949\n",
       "21            2021   7757     7663\n",
       "22            2022   7482     7346\n",
       "23            2023   6937     6834\n",
       "24            2024   6218     6123\n",
       "25            2025     91       91"
      ]
     },
     "execution_count": 4,
     "metadata": {},
     "output_type": "execute_result"
    }
   ],
   "source": [
    "filings_metadata.groupby('reporting_year')['CIK'].agg(['count', 'nunique']).reset_index().tail(7)"
   ]
  },
  {
   "cell_type": "markdown",
   "metadata": {},
   "source": [
    "Only include the filings relevant to the years [2020,2024]"
   ]
  },
  {
   "cell_type": "code",
   "execution_count": 5,
   "metadata": {},
   "outputs": [],
   "source": [
    "filings_metadata = filings_metadata[filings_metadata.reporting_year.isin(range(2020,2025))]"
   ]
  },
  {
   "cell_type": "code",
   "execution_count": 6,
   "metadata": {},
   "outputs": [
    {
     "data": {
      "text/plain": [
       "35417"
      ]
     },
     "execution_count": 6,
     "metadata": {},
     "output_type": "execute_result"
    }
   ],
   "source": [
    "len(filings_metadata)"
   ]
  },
  {
   "cell_type": "code",
   "execution_count": 7,
   "metadata": {},
   "outputs": [],
   "source": [
    "companies_per_year = filings_metadata.groupby('reporting_year')[['CIK']].nunique()\n",
    "companies_per_year.columns = ['companies']"
   ]
  },
  {
   "cell_type": "markdown",
   "metadata": {},
   "source": [
    "# Company sampling"
   ]
  },
  {
   "cell_type": "code",
   "execution_count": 253,
   "metadata": {},
   "outputs": [],
   "source": [
    "ai_mentions = pd.read_csv(r'C:\\Users\\P70088982\\Documents\\edgar-crawler\\datasets\\ai_mentions.csv')\n",
    "ai_mentions = ai_mentions[ai_mentions.reporting_year.isin(range(2020,2025))]"
   ]
  },
  {
   "cell_type": "code",
   "execution_count": 258,
   "metadata": {},
   "outputs": [
    {
     "data": {
      "text/plain": [
       "0.906232309651854"
      ]
     },
     "execution_count": 258,
     "metadata": {},
     "output_type": "execute_result"
    }
   ],
   "source": [
    "(55807+46648)/len(ai_mentions)"
   ]
  },
  {
   "cell_type": "code",
   "execution_count": 256,
   "metadata": {},
   "outputs": [
    {
     "data": {
      "text/html": [
       "<div>\n",
       "<style scoped>\n",
       "    .dataframe tbody tr th:only-of-type {\n",
       "        vertical-align: middle;\n",
       "    }\n",
       "\n",
       "    .dataframe tbody tr th {\n",
       "        vertical-align: top;\n",
       "    }\n",
       "\n",
       "    .dataframe thead th {\n",
       "        text-align: right;\n",
       "    }\n",
       "</style>\n",
       "<table border=\"1\" class=\"dataframe\">\n",
       "  <thead>\n",
       "    <tr style=\"text-align: right;\">\n",
       "      <th></th>\n",
       "      <th>cik</th>\n",
       "    </tr>\n",
       "    <tr>\n",
       "      <th>match_field</th>\n",
       "      <th></th>\n",
       "    </tr>\n",
       "  </thead>\n",
       "  <tbody>\n",
       "    <tr>\n",
       "      <th>1A_matches</th>\n",
       "      <td>55807</td>\n",
       "    </tr>\n",
       "    <tr>\n",
       "      <th>1_matches</th>\n",
       "      <td>46648</td>\n",
       "    </tr>\n",
       "    <tr>\n",
       "      <th>3_matches</th>\n",
       "      <td>89</td>\n",
       "    </tr>\n",
       "    <tr>\n",
       "      <th>7_matches</th>\n",
       "      <td>10512</td>\n",
       "    </tr>\n",
       "  </tbody>\n",
       "</table>\n",
       "</div>"
      ],
      "text/plain": [
       "               cik\n",
       "match_field       \n",
       "1A_matches   55807\n",
       "1_matches    46648\n",
       "3_matches       89\n",
       "7_matches    10512"
      ]
     },
     "execution_count": 256,
     "metadata": {},
     "output_type": "execute_result"
    }
   ],
   "source": [
    "ai_mentions.groupby('match_field').count()[['cik']]"
   ]
  },
  {
   "cell_type": "code",
   "execution_count": 9,
   "metadata": {},
   "outputs": [],
   "source": [
    "random_50 = ai_mentions.groupby('company')[['cik']].first().sample(50, random_state=42)"
   ]
  },
  {
   "cell_type": "code",
   "execution_count": 10,
   "metadata": {},
   "outputs": [],
   "source": [
    "random_50.to_excel('../datasets/random_50.xlsx')"
   ]
  },
  {
   "cell_type": "markdown",
   "metadata": {},
   "source": [
    "# 1 vs 1A items over time"
   ]
  },
  {
   "cell_type": "code",
   "execution_count": 11,
   "metadata": {},
   "outputs": [
    {
     "data": {
      "text/plain": [
       "array(['Artificial Intelligence', 'AI', 'generative', 'Generative',\n",
       "       'machine learning', 'artificial intelligence', 'image recognition',\n",
       "       'speech recognition', 'natural language processing', 'NLP',\n",
       "       'computer vision', 'Machine Learning',\n",
       "       'Natural Language Processing', 'ai', 'AGI', 'chatbot',\n",
       "       'Artificial intelligence', 'voice assistant',\n",
       "       'artificial Intelligence', 'deep learning',\n",
       "       'ARTIFICIAL INTELLIGENCE', 'A.I', 'Machine learning', 'Ai',\n",
       "       'Computer Vision', 'Deep learning', 'Deep Learning', 'deepfake',\n",
       "       'Chatbot', 'MACHINE LEARNING', 'recommendation system',\n",
       "       'Computer vision', 'Speech Recognition', 'Speech recognition',\n",
       "       'ChatBot', 'GENERATIVE', 'Voice Assistant',\n",
       "       'NATURAL LANGUAGE PROCESSING', 'Natural language processing',\n",
       "       'Image recognition', 'A.i', 'CHATBOT',\n",
       "       'artificial general intelligence', 'machine Learning', 'Deepfake',\n",
       "       'ChatBOT'], dtype=object)"
      ]
     },
     "execution_count": 11,
     "metadata": {},
     "output_type": "execute_result"
    }
   ],
   "source": [
    "ai_mentions.keyword.unique()"
   ]
  },
  {
   "cell_type": "code",
   "execution_count": 12,
   "metadata": {},
   "outputs": [],
   "source": [
    "ai_mentions = pd.read_csv(r'C:\\Users\\P70088982\\Documents\\edgar-crawler\\datasets\\ai_mentions.csv')\n",
    "ai_mentions = ai_mentions[ai_mentions.reporting_year.isin(range(2020,2025))]"
   ]
  },
  {
   "cell_type": "code",
   "execution_count": 36,
   "metadata": {},
   "outputs": [],
   "source": [
    "companies_ai_mentioned = ai_mentions.groupby('reporting_year')[['cik']].nunique().rename(columns={'cik': 'companies'})\n",
    "companies_ai_mentioned_norm = ai_mentions.groupby('reporting_year')[['cik']].nunique().rename(columns={'cik': 'companies'})/ companies_per_year\n",
    "companies_ai_mentioned_norm.columns = ['companies_per']"
   ]
  },
  {
   "cell_type": "code",
   "execution_count": 14,
   "metadata": {},
   "outputs": [
    {
     "data": {
      "text/plain": [
       "50744"
      ]
     },
     "execution_count": 14,
     "metadata": {},
     "output_type": "execute_result"
    }
   ],
   "source": [
    "ai_mentions.sentence.nunique()"
   ]
  },
  {
   "cell_type": "markdown",
   "metadata": {},
   "source": [
    "Time taken to file"
   ]
  },
  {
   "cell_type": "code",
   "execution_count": 15,
   "metadata": {},
   "outputs": [],
   "source": [
    "filings_metadata['submission_length'] = (filings_metadata['Filing Date'] - filings_metadata['Period of Report']).dt.days"
   ]
  },
  {
   "cell_type": "code",
   "execution_count": 16,
   "metadata": {},
   "outputs": [
    {
     "data": {
      "text/plain": [
       "count    35417.000000\n",
       "mean        75.314934\n",
       "std         39.478440\n",
       "min          0.000000\n",
       "50%         72.000000\n",
       "90%         92.000000\n",
       "99%        212.840000\n",
       "max       1380.000000\n",
       "Name: submission_length, dtype: float64"
      ]
     },
     "execution_count": 16,
     "metadata": {},
     "output_type": "execute_result"
    }
   ],
   "source": [
    "filings_metadata.submission_length.describe(percentiles=[0.9, 0.99])"
   ]
  },
  {
   "cell_type": "code",
   "execution_count": 17,
   "metadata": {},
   "outputs": [
    {
     "data": {
      "image/png": "[encoded data removed]",
      "text/plain": [
       "<Figure size 761.111x500 with 1 Axes>"
      ]
     },
     "metadata": {},
     "output_type": "display_data"
    }
   ],
   "source": [
    "# Seaborn scatter plot of evolution in number of mentions over time (split by match field)\n",
    "import seaborn as sns\n",
    "import matplotlib.pyplot as plt\n",
    "\n",
    "with sns.axes_style(style=\"whitegrid\"):\n",
    "    # Increase dot size\n",
    "    g = sns.catplot(data=companies_ai_mentioned_norm.reset_index(), x='reporting_year', y='companies_per', kind='bar', height=5, legend_out=True, aspect=1.5)\n",
    "    g.fig.suptitle('Evolution of AI mentions in 10-K filings over time')\n",
    "\n",
    "    g.set_xticklabels(rotation=45)\n",
    "    g.set_xlabels('Reporting Year')\n",
    "    g.set_ylabels(r'$\\bf{Proportion\\ of\\ companies}$ mentioning AI related terms')\n",
    "    plt.savefig('../figures/proportion_ai_mentions.jpg', dpi=300, bbox_inches='tight')\n",
    "    plt.show()\n"
   ]
  },
  {
   "cell_type": "markdown",
   "metadata": {},
   "source": [
    "Mentions per filing"
   ]
  },
  {
   "cell_type": "code",
   "execution_count": 46,
   "metadata": {},
   "outputs": [
    {
     "data": {
      "image/png": "[encoded data removed]",
      "text/plain": [
       "<Figure size 761.111x500 with 1 Axes>"
      ]
     },
     "metadata": {},
     "output_type": "display_data"
    }
   ],
   "source": [
    "\n",
    "import seaborn as sns\n",
    "import matplotlib.pyplot as plt\n",
    "ai_mentions_norm = ai_mentions.groupby('reporting_year')[['sentence']].nunique().rename(columns={'sentence': 'companies'})/ companies_per_year\n",
    "ai_mentions_norm.columns = ['avg_ai_mentions_per_company']\n",
    "with sns.axes_style(style=\"whitegrid\"):\n",
    "    # Increase dot size\n",
    "    g = sns.catplot(data=ai_mentions_norm.reset_index(), x='reporting_year', y='avg_ai_mentions_per_company', kind='bar', height=5, legend_out=True, aspect=1.5)\n",
    "    g.fig.suptitle('Evolution of AI mentions in 10-K filings over time')\n",
    "\n",
    "    g.set_xticklabels(rotation=45)\n",
    "    g.set_xlabels('Reporting Year')\n",
    "    g.set_ylabels(r'$\\bf{Average\\ number\\ of}$ mentions of AI related terms per filing')\n",
    "    plt.savefig('../figures/ai_mentions_per_filing.jpg', dpi=300, bbox_inches='tight')\n",
    "    plt.show()\n"
   ]
  },
  {
   "cell_type": "markdown",
   "metadata": {},
   "source": [
    "Mentions per filing that mentions AI at least once"
   ]
  },
  {
   "cell_type": "code",
   "execution_count": 155,
   "metadata": {},
   "outputs": [
    {
     "data": {
      "text/html": [
       "<div>\n",
       "<style scoped>\n",
       "    .dataframe tbody tr th:only-of-type {\n",
       "        vertical-align: middle;\n",
       "    }\n",
       "\n",
       "    .dataframe tbody tr th {\n",
       "        vertical-align: top;\n",
       "    }\n",
       "\n",
       "    .dataframe thead th {\n",
       "        text-align: right;\n",
       "    }\n",
       "</style>\n",
       "<table border=\"1\" class=\"dataframe\">\n",
       "  <thead>\n",
       "    <tr style=\"text-align: right;\">\n",
       "      <th></th>\n",
       "      <th>avg_ai_mentions_per_company</th>\n",
       "    </tr>\n",
       "    <tr>\n",
       "      <th>reporting_year</th>\n",
       "      <th></th>\n",
       "    </tr>\n",
       "  </thead>\n",
       "  <tbody>\n",
       "    <tr>\n",
       "      <th>2020</th>\n",
       "      <td>4.960044</td>\n",
       "    </tr>\n",
       "    <tr>\n",
       "      <th>2021</th>\n",
       "      <td>5.976336</td>\n",
       "    </tr>\n",
       "    <tr>\n",
       "      <th>2022</th>\n",
       "      <td>6.247118</td>\n",
       "    </tr>\n",
       "    <tr>\n",
       "      <th>2023</th>\n",
       "      <td>7.484277</td>\n",
       "    </tr>\n",
       "    <tr>\n",
       "      <th>2024</th>\n",
       "      <td>9.269206</td>\n",
       "    </tr>\n",
       "  </tbody>\n",
       "</table>\n",
       "</div>"
      ],
      "text/plain": [
       "                avg_ai_mentions_per_company\n",
       "reporting_year                             \n",
       "2020                               4.960044\n",
       "2021                               5.976336\n",
       "2022                               6.247118\n",
       "2023                               7.484277\n",
       "2024                               9.269206"
      ]
     },
     "execution_count": 155,
     "metadata": {},
     "output_type": "execute_result"
    }
   ],
   "source": [
    "ai_mentions_norm"
   ]
  },
  {
   "cell_type": "code",
   "execution_count": 244,
   "metadata": {},
   "outputs": [
    {
     "data": {
      "image/png": "[encoded data removed]",
      "text/plain": [
       "<Figure size 761.111x500 with 1 Axes>"
      ]
     },
     "metadata": {},
     "output_type": "display_data"
    }
   ],
   "source": [
    "# Seaborn scatter plot of evolution in number of mentions over time (split by match field)\n",
    "import seaborn as sns\n",
    "import matplotlib.pyplot as plt\n",
    "ai_mentions_norm = ai_mentions.groupby('reporting_year')[['sentence']].nunique().rename(columns={'sentence': 'companies'})/ companies_ai_mentioned\n",
    "ai_mentions_norm.columns = ['avg_ai_mentions_per_company']\n",
    "with sns.axes_style(style=\"whitegrid\"):\n",
    "    # Increase dot size\n",
    "    g = sns.catplot(data=ai_mentions_norm.reset_index(), x='reporting_year', y='avg_ai_mentions_per_company', kind='bar', height=5, legend_out=True, aspect=1.5)\n",
    "    g.fig.suptitle(r'Evolution of AI mentions in 10-K filings $\\bf{mentioning\\ AI}$ over time')\n",
    "\n",
    "    g.set_xticklabels(rotation=45)\n",
    "    g.set_xlabels('Reporting Year')\n",
    "    g.set_ylabels(r'$\\bf{Average\\ number\\ of}$ mentions of AI related terms per filing')\n",
    "    plt.savefig('../figures/ai_mentions_per_ai_filing.jpg', dpi=300, bbox_inches='tight')\n",
    "    plt.show()\n"
   ]
  },
  {
   "cell_type": "code",
   "execution_count": 252,
   "metadata": {},
   "outputs": [
    {
     "name": "stdout",
     "output_type": "stream",
     "text": [
      "\\begin{tabular}{lrr}\n",
      "\\toprule\n",
      "{} &  Percentage of companies that mention AI &  Average \\# of unique sentences about AI \\\\\n",
      "reporting\\_year &                                          &                                         \\\\\n",
      "\\midrule\n",
      "2020           &                                    12.97 &                                    4.96 \\\\\n",
      "2021           &                                    17.10 &                                    5.98 \\\\\n",
      "2022           &                                    18.89 &                                    6.25 \\\\\n",
      "2023           &                                    34.90 &                                    7.48 \\\\\n",
      "2024           &                                    50.60 &                                    9.27 \\\\\n",
      "\\bottomrule\n",
      "\\end{tabular}\n",
      "\n"
     ]
    },
    {
     "name": "stderr",
     "output_type": "stream",
     "text": [
      "C:\\Users\\P70088982\\AppData\\Local\\Temp\\ipykernel_19856\\4253081804.py:4: FutureWarning: In future versions `DataFrame.to_latex` is expected to utilise the base implementation of `Styler.to_latex` for formatting and rendering. The arguments signature may therefore change. It is recommended instead to use `DataFrame.style.to_latex` which also contains additional functionality.\n",
      "  latex_table = paper_table.to_latex(float_format=\"%.2f\")\n"
     ]
    }
   ],
   "source": [
    "paper_table = companies_ai_mentioned_norm.join(ai_mentions_norm)\n",
    "paper_table.companies_per = paper_table.companies_per*100\n",
    "paper_table.columns = ['Percentage of companies that mention AI', 'Average # of unique sentences about AI']\n",
    "latex_table = paper_table.to_latex(float_format=\"%.2f\")\n",
    "print(latex_table)"
   ]
  },
  {
   "cell_type": "code",
   "execution_count": 26,
   "metadata": {},
   "outputs": [
    {
     "data": {
      "text/html": [
       "<div>\n",
       "<style scoped>\n",
       "    .dataframe tbody tr th:only-of-type {\n",
       "        vertical-align: middle;\n",
       "    }\n",
       "\n",
       "    .dataframe tbody tr th {\n",
       "        vertical-align: top;\n",
       "    }\n",
       "\n",
       "    .dataframe thead th {\n",
       "        text-align: right;\n",
       "    }\n",
       "</style>\n",
       "<table border=\"1\" class=\"dataframe\">\n",
       "  <thead>\n",
       "    <tr style=\"text-align: right;\">\n",
       "      <th></th>\n",
       "      <th></th>\n",
       "      <th>cik</th>\n",
       "    </tr>\n",
       "    <tr>\n",
       "      <th>reporting_year</th>\n",
       "      <th>match_field</th>\n",
       "      <th></th>\n",
       "    </tr>\n",
       "  </thead>\n",
       "  <tbody>\n",
       "    <tr>\n",
       "      <th rowspan=\"4\" valign=\"top\">2020</th>\n",
       "      <th>1A_matches</th>\n",
       "      <td>288118510</td>\n",
       "    </tr>\n",
       "    <tr>\n",
       "      <th>1_matches</th>\n",
       "      <td>1007191964</td>\n",
       "    </tr>\n",
       "    <tr>\n",
       "      <th>3_matches</th>\n",
       "      <td>2830134</td>\n",
       "    </tr>\n",
       "    <tr>\n",
       "      <th>7_matches</th>\n",
       "      <td>346721426</td>\n",
       "    </tr>\n",
       "    <tr>\n",
       "      <th rowspan=\"4\" valign=\"top\">2021</th>\n",
       "      <th>1A_matches</th>\n",
       "      <td>476210841</td>\n",
       "    </tr>\n",
       "    <tr>\n",
       "      <th>1_matches</th>\n",
       "      <td>1639599063</td>\n",
       "    </tr>\n",
       "    <tr>\n",
       "      <th>3_matches</th>\n",
       "      <td>3872180</td>\n",
       "    </tr>\n",
       "    <tr>\n",
       "      <th>7_matches</th>\n",
       "      <td>550459245</td>\n",
       "    </tr>\n",
       "    <tr>\n",
       "      <th rowspan=\"4\" valign=\"top\">2022</th>\n",
       "      <th>1A_matches</th>\n",
       "      <td>627372387</td>\n",
       "    </tr>\n",
       "    <tr>\n",
       "      <th>1_matches</th>\n",
       "      <td>1661648415</td>\n",
       "    </tr>\n",
       "    <tr>\n",
       "      <th>3_matches</th>\n",
       "      <td>6473603</td>\n",
       "    </tr>\n",
       "    <tr>\n",
       "      <th>7_matches</th>\n",
       "      <td>599294730</td>\n",
       "    </tr>\n",
       "    <tr>\n",
       "      <th rowspan=\"4\" valign=\"top\">2023</th>\n",
       "      <th>1A_matches</th>\n",
       "      <td>2168965619</td>\n",
       "    </tr>\n",
       "    <tr>\n",
       "      <th>1_matches</th>\n",
       "      <td>1828496416</td>\n",
       "    </tr>\n",
       "    <tr>\n",
       "      <th>3_matches</th>\n",
       "      <td>7870815</td>\n",
       "    </tr>\n",
       "    <tr>\n",
       "      <th>7_matches</th>\n",
       "      <td>771708486</td>\n",
       "    </tr>\n",
       "    <tr>\n",
       "      <th rowspan=\"4\" valign=\"top\">2024</th>\n",
       "      <th>1A_matches</th>\n",
       "      <td>3281383275</td>\n",
       "    </tr>\n",
       "    <tr>\n",
       "      <th>1_matches</th>\n",
       "      <td>1944092702</td>\n",
       "    </tr>\n",
       "    <tr>\n",
       "      <th>3_matches</th>\n",
       "      <td>8178412</td>\n",
       "    </tr>\n",
       "    <tr>\n",
       "      <th>7_matches</th>\n",
       "      <td>934116059</td>\n",
       "    </tr>\n",
       "  </tbody>\n",
       "</table>\n",
       "</div>"
      ],
      "text/plain": [
       "                                   cik\n",
       "reporting_year match_field            \n",
       "2020           1A_matches    288118510\n",
       "               1_matches    1007191964\n",
       "               3_matches       2830134\n",
       "               7_matches     346721426\n",
       "2021           1A_matches    476210841\n",
       "               1_matches    1639599063\n",
       "               3_matches       3872180\n",
       "               7_matches     550459245\n",
       "2022           1A_matches    627372387\n",
       "               1_matches    1661648415\n",
       "               3_matches       6473603\n",
       "               7_matches     599294730\n",
       "2023           1A_matches   2168965619\n",
       "               1_matches    1828496416\n",
       "               3_matches       7870815\n",
       "               7_matches     771708486\n",
       "2024           1A_matches   3281383275\n",
       "               1_matches    1944092702\n",
       "               3_matches       8178412\n",
       "               7_matches     934116059"
      ]
     },
     "execution_count": 26,
     "metadata": {},
     "output_type": "execute_result"
    }
   ],
   "source": [
    "ai_mentions.groupby(['reporting_year', 'match_field', 'cik']).nunique()[['sentence']].reset_index().groupby(['reporting_year', 'match_field']).sum()[['cik']]"
   ]
  },
  {
   "cell_type": "code",
   "execution_count": 27,
   "metadata": {},
   "outputs": [
    {
     "data": {
      "text/html": [
       "<div>\n",
       "<style scoped>\n",
       "    .dataframe tbody tr th:only-of-type {\n",
       "        vertical-align: middle;\n",
       "    }\n",
       "\n",
       "    .dataframe tbody tr th {\n",
       "        vertical-align: top;\n",
       "    }\n",
       "\n",
       "    .dataframe thead th {\n",
       "        text-align: right;\n",
       "    }\n",
       "</style>\n",
       "<table border=\"1\" class=\"dataframe\">\n",
       "  <thead>\n",
       "    <tr style=\"text-align: right;\">\n",
       "      <th></th>\n",
       "      <th>reporting_year</th>\n",
       "      <th>companies_per</th>\n",
       "    </tr>\n",
       "  </thead>\n",
       "  <tbody>\n",
       "    <tr>\n",
       "      <th>0</th>\n",
       "      <td>2020</td>\n",
       "      <td>0.129659</td>\n",
       "    </tr>\n",
       "    <tr>\n",
       "      <th>1</th>\n",
       "      <td>2021</td>\n",
       "      <td>0.170951</td>\n",
       "    </tr>\n",
       "    <tr>\n",
       "      <th>2</th>\n",
       "      <td>2022</td>\n",
       "      <td>0.188946</td>\n",
       "    </tr>\n",
       "    <tr>\n",
       "      <th>3</th>\n",
       "      <td>2023</td>\n",
       "      <td>0.348990</td>\n",
       "    </tr>\n",
       "    <tr>\n",
       "      <th>4</th>\n",
       "      <td>2024</td>\n",
       "      <td>0.505961</td>\n",
       "    </tr>\n",
       "  </tbody>\n",
       "</table>\n",
       "</div>"
      ],
      "text/plain": [
       "   reporting_year  companies_per\n",
       "0            2020       0.129659\n",
       "1            2021       0.170951\n",
       "2            2022       0.188946\n",
       "3            2023       0.348990\n",
       "4            2024       0.505961"
      ]
     },
     "execution_count": 27,
     "metadata": {},
     "output_type": "execute_result"
    }
   ],
   "source": [
    "companies_ai_mentioned_norm.reset_index()"
   ]
  },
  {
   "cell_type": "code",
   "execution_count": 60,
   "metadata": {},
   "outputs": [
    {
     "name": "stderr",
     "output_type": "stream",
     "text": [
      "C:\\Users\\P70088982\\AppData\\Local\\Temp\\ipykernel_21256\\1213250543.py:5: FutureWarning: merging between different levels is deprecated and will be removed in a future version. (2 levels on the left, 1 on the right)\n",
      "  companies_per_item = grouped.set_index('reporting_year').join(companies_per_year, on='reporting_year')\n"
     ]
    },
    {
     "data": {
      "image/png": "[encoded data removed]",
      "text/plain": [
       "<Figure size 877.125x500 with 1 Axes>"
      ]
     },
     "metadata": {},
     "output_type": "display_data"
    }
   ],
   "source": [
    "# Seaborn scatter plot of evolution in number of mentions over time (split by match field)\n",
    "import seaborn as sns\n",
    "import matplotlib.pyplot as plt\n",
    "grouped = ai_mentions[ai_mentions.match_field.isin(['1_matches', '1A_matches'])].groupby(['reporting_year', 'match_field']).agg(['nunique'])[['cik']].reset_index()\n",
    "companies_per_item = grouped.set_index('reporting_year').join(companies_per_year, on='reporting_year')\n",
    "companies_per_item.columns = ['item', 'companies', 'total_companies']\n",
    "companies_per_item['companies_proportion'] = companies_per_item['companies'] / companies_per_item['total_companies']\n",
    "\n",
    "with sns.axes_style(style=\"whitegrid\"):\n",
    "    # Increase dot size\n",
    "    g = sns.catplot(data=companies_per_item, x='reporting_year', y='companies_proportion', hue='item', kind='bar', height=5, legend_out=True, aspect=1.5, palette = [\"salmon\", \"darkgrey\"])\n",
    "    # Rename labels\n",
    "    g.fig.suptitle('Evolution of AI mentions in SEC filings over time')\n",
    "    g._legend.texts[0].set_text('Risk Factors')\n",
    "    g._legend.texts[1].set_text('Business')\n",
    "\n",
    "\n",
    "    g.set_xticklabels(rotation=45)\n",
    "    g.set_xlabels('Reporting Year')\n",
    "    g.set_ylabels(r'$\\bf{Proportion\\ of\\ companies}$ mentioning AI related terms')\n",
    "    plt.savefig('../figures/proportion_ai_mentions_per_item.jpg', dpi=300, bbox_inches='tight')\n",
    "    plt.show()\n",
    "\n"
   ]
  },
  {
   "cell_type": "code",
   "execution_count": 284,
   "metadata": {},
   "outputs": [
    {
     "name": "stderr",
     "output_type": "stream",
     "text": [
      "C:\\Users\\P70088982\\AppData\\Local\\Temp\\ipykernel_19856\\2327869657.py:5: FutureWarning: merging between different levels is deprecated and will be removed in a future version. (2 levels on the left, 1 on the right)\n",
      "  avg_mention_per_item = grouped.set_index('reporting_year').join(companies_per_year, on='reporting_year')\n"
     ]
    },
    {
     "data": {
      "image/png": "[encoded data removed]",
      "text/plain": [
       "<Figure size 1027.12x600 with 1 Axes>"
      ]
     },
     "metadata": {},
     "output_type": "display_data"
    }
   ],
   "source": [
    "# Seaborn scatter plot of evolution in number of mentions over time (split by match field)\n",
    "import seaborn as sns\n",
    "import matplotlib.pyplot as plt\n",
    "grouped = ai_mentions[ai_mentions.match_field.isin(['1_matches', '1A_matches'])].groupby(['reporting_year', 'match_field']).agg(['nunique'])[['sentence']].reset_index()\n",
    "avg_mention_per_item = grouped.set_index('reporting_year').join(companies_per_year, on='reporting_year')\n",
    "avg_mention_per_item.columns = ['item', 'unique_mentions', 'total_companies']\n",
    "avg_mention_per_item['avg_mentions_per_item'] =avg_mention_per_item['unique_mentions'] / avg_mention_per_item['total_companies']\n",
    "\n",
    "with sns.axes_style(style=\"whitegrid\"):\n",
    "    # Increase dot size\n",
    "    g = sns.catplot(data=avg_mention_per_item, x='reporting_year', y='avg_mentions_per_item', hue='item', kind='bar', height=6, legend_out=True, aspect=1.5, palette = [\"salmon\", \"darkgrey\"])\n",
    "    g.fig.suptitle('Evolution of average AI mentions per SEC filing over time (split by item)')\n",
    "\n",
    "    g.set_xticklabels(rotation=45)\n",
    "    g.set_xlabels('Reporting Year')\n",
    "    g.set_ylabels('Average number of unique sentences containing AI related terms (per filing)')\n",
    "    plt.savefig('../figures/avg_ai_mentions_per_item_per_filing.jpg', dpi=300, bbox_inches='tight')\n",
    "\n"
   ]
  },
  {
   "cell_type": "code",
   "execution_count": 285,
   "metadata": {},
   "outputs": [
    {
     "data": {
      "text/html": [
       "<div>\n",
       "<style scoped>\n",
       "    .dataframe tbody tr th:only-of-type {\n",
       "        vertical-align: middle;\n",
       "    }\n",
       "\n",
       "    .dataframe tbody tr th {\n",
       "        vertical-align: top;\n",
       "    }\n",
       "\n",
       "    .dataframe thead th {\n",
       "        text-align: right;\n",
       "    }\n",
       "</style>\n",
       "<table border=\"1\" class=\"dataframe\">\n",
       "  <thead>\n",
       "    <tr style=\"text-align: right;\">\n",
       "      <th></th>\n",
       "      <th>item</th>\n",
       "      <th>unique_mentions</th>\n",
       "      <th>total_companies</th>\n",
       "      <th>avg_mentions_per_item</th>\n",
       "    </tr>\n",
       "    <tr>\n",
       "      <th>reporting_year</th>\n",
       "      <th></th>\n",
       "      <th></th>\n",
       "      <th></th>\n",
       "      <th></th>\n",
       "    </tr>\n",
       "  </thead>\n",
       "  <tbody>\n",
       "    <tr>\n",
       "      <th>2020</th>\n",
       "      <td>1A_matches</td>\n",
       "      <td>661</td>\n",
       "      <td>6949</td>\n",
       "      <td>0.095122</td>\n",
       "    </tr>\n",
       "    <tr>\n",
       "      <th>2020</th>\n",
       "      <td>1_matches</td>\n",
       "      <td>3310</td>\n",
       "      <td>6949</td>\n",
       "      <td>0.476328</td>\n",
       "    </tr>\n",
       "    <tr>\n",
       "      <th>2021</th>\n",
       "      <td>1A_matches</td>\n",
       "      <td>1351</td>\n",
       "      <td>7663</td>\n",
       "      <td>0.176302</td>\n",
       "    </tr>\n",
       "    <tr>\n",
       "      <th>2021</th>\n",
       "      <td>1_matches</td>\n",
       "      <td>5605</td>\n",
       "      <td>7663</td>\n",
       "      <td>0.731437</td>\n",
       "    </tr>\n",
       "    <tr>\n",
       "      <th>2022</th>\n",
       "      <td>1A_matches</td>\n",
       "      <td>1728</td>\n",
       "      <td>7346</td>\n",
       "      <td>0.235230</td>\n",
       "    </tr>\n",
       "    <tr>\n",
       "      <th>2022</th>\n",
       "      <td>1_matches</td>\n",
       "      <td>5992</td>\n",
       "      <td>7346</td>\n",
       "      <td>0.815682</td>\n",
       "    </tr>\n",
       "    <tr>\n",
       "      <th>2023</th>\n",
       "      <td>1A_matches</td>\n",
       "      <td>8297</td>\n",
       "      <td>6834</td>\n",
       "      <td>1.214077</td>\n",
       "    </tr>\n",
       "    <tr>\n",
       "      <th>2023</th>\n",
       "      <td>1_matches</td>\n",
       "      <td>8272</td>\n",
       "      <td>6834</td>\n",
       "      <td>1.210418</td>\n",
       "    </tr>\n",
       "    <tr>\n",
       "      <th>2024</th>\n",
       "      <td>1A_matches</td>\n",
       "      <td>16588</td>\n",
       "      <td>6123</td>\n",
       "      <td>2.709130</td>\n",
       "    </tr>\n",
       "    <tr>\n",
       "      <th>2024</th>\n",
       "      <td>1_matches</td>\n",
       "      <td>10189</td>\n",
       "      <td>6123</td>\n",
       "      <td>1.664054</td>\n",
       "    </tr>\n",
       "  </tbody>\n",
       "</table>\n",
       "</div>"
      ],
      "text/plain": [
       "                      item  unique_mentions  total_companies  \\\n",
       "reporting_year                                                 \n",
       "2020            1A_matches              661             6949   \n",
       "2020             1_matches             3310             6949   \n",
       "2021            1A_matches             1351             7663   \n",
       "2021             1_matches             5605             7663   \n",
       "2022            1A_matches             1728             7346   \n",
       "2022             1_matches             5992             7346   \n",
       "2023            1A_matches             8297             6834   \n",
       "2023             1_matches             8272             6834   \n",
       "2024            1A_matches            16588             6123   \n",
       "2024             1_matches            10189             6123   \n",
       "\n",
       "                avg_mentions_per_item  \n",
       "reporting_year                         \n",
       "2020                         0.095122  \n",
       "2020                         0.476328  \n",
       "2021                         0.176302  \n",
       "2021                         0.731437  \n",
       "2022                         0.235230  \n",
       "2022                         0.815682  \n",
       "2023                         1.214077  \n",
       "2023                         1.210418  \n",
       "2024                         2.709130  \n",
       "2024                         1.664054  "
      ]
     },
     "execution_count": 285,
     "metadata": {},
     "output_type": "execute_result"
    }
   ],
   "source": [
    "avg_mention_per_item"
   ]
  },
  {
   "cell_type": "code",
   "execution_count": 286,
   "metadata": {},
   "outputs": [
    {
     "name": "stderr",
     "output_type": "stream",
     "text": [
      "C:\\Users\\P70088982\\AppData\\Local\\Temp\\ipykernel_19856\\3307675079.py:5: FutureWarning: merging between different levels is deprecated and will be removed in a future version. (2 levels on the left, 1 on the right)\n",
      "  avg_mention_per_item = grouped.set_index('reporting_year').join(companies_ai_mentioned, on='reporting_year')\n"
     ]
    },
    {
     "data": {
      "image/png": "[encoded data removed]",
      "text/plain": [
       "<Figure size 1027.12x600 with 1 Axes>"
      ]
     },
     "metadata": {},
     "output_type": "display_data"
    }
   ],
   "source": [
    "# Seaborn scatter plot of evolution in number of mentions over time (split by match field)\n",
    "import seaborn as sns\n",
    "import matplotlib.pyplot as plt\n",
    "grouped = ai_mentions[ai_mentions.match_field.isin(['1_matches', '1A_matches'])].groupby(['reporting_year', 'match_field']).agg(['nunique'])[['sentence']].reset_index()\n",
    "avg_mention_per_item = grouped.set_index('reporting_year').join(companies_ai_mentioned, on='reporting_year')\n",
    "avg_mention_per_item.columns = ['item', 'unique_mentions', 'total_companies']\n",
    "avg_mention_per_item['avg_mentions_per_item'] =avg_mention_per_item['unique_mentions'] / avg_mention_per_item['total_companies']\n",
    "\n",
    "with sns.axes_style(style=\"whitegrid\"):\n",
    "    # Increase dot size\n",
    "    g = sns.catplot(data=avg_mention_per_item, x='reporting_year', y='avg_mentions_per_item', hue='item', kind='bar', height=6, legend_out=True, aspect=1.5, palette = [\"salmon\", \"darkgrey\"])\n",
    "    g.fig.suptitle('Evolution of average AI mentions per SEC filing (mentioning AI) over time (split by item)')\n",
    "\n",
    "    g.set_xticklabels(rotation=45)\n",
    "    g.set_xlabels('Reporting Year')\n",
    "    g.set_ylabels('Average number of unique sentences containing AI related terms (per filing)')\n",
    "    plt.savefig('../figures/avg_ai_mentions_per_item_per_ai_filing.jpg', dpi=300, bbox_inches='tight')\n",
    "\n"
   ]
  },
  {
   "cell_type": "code",
   "execution_count": 287,
   "metadata": {},
   "outputs": [
    {
     "data": {
      "text/html": [
       "<div>\n",
       "<style scoped>\n",
       "    .dataframe tbody tr th:only-of-type {\n",
       "        vertical-align: middle;\n",
       "    }\n",
       "\n",
       "    .dataframe tbody tr th {\n",
       "        vertical-align: top;\n",
       "    }\n",
       "\n",
       "    .dataframe thead th {\n",
       "        text-align: right;\n",
       "    }\n",
       "</style>\n",
       "<table border=\"1\" class=\"dataframe\">\n",
       "  <thead>\n",
       "    <tr style=\"text-align: right;\">\n",
       "      <th></th>\n",
       "      <th>item</th>\n",
       "      <th>unique_mentions</th>\n",
       "      <th>total_companies</th>\n",
       "      <th>avg_mentions_per_item</th>\n",
       "    </tr>\n",
       "    <tr>\n",
       "      <th>reporting_year</th>\n",
       "      <th></th>\n",
       "      <th></th>\n",
       "      <th></th>\n",
       "      <th></th>\n",
       "    </tr>\n",
       "  </thead>\n",
       "  <tbody>\n",
       "    <tr>\n",
       "      <th>2020</th>\n",
       "      <td>1A_matches</td>\n",
       "      <td>661</td>\n",
       "      <td>901</td>\n",
       "      <td>0.733629</td>\n",
       "    </tr>\n",
       "    <tr>\n",
       "      <th>2020</th>\n",
       "      <td>1_matches</td>\n",
       "      <td>3310</td>\n",
       "      <td>901</td>\n",
       "      <td>3.673696</td>\n",
       "    </tr>\n",
       "    <tr>\n",
       "      <th>2021</th>\n",
       "      <td>1A_matches</td>\n",
       "      <td>1351</td>\n",
       "      <td>1310</td>\n",
       "      <td>1.031298</td>\n",
       "    </tr>\n",
       "    <tr>\n",
       "      <th>2021</th>\n",
       "      <td>1_matches</td>\n",
       "      <td>5605</td>\n",
       "      <td>1310</td>\n",
       "      <td>4.278626</td>\n",
       "    </tr>\n",
       "    <tr>\n",
       "      <th>2022</th>\n",
       "      <td>1A_matches</td>\n",
       "      <td>1728</td>\n",
       "      <td>1388</td>\n",
       "      <td>1.244957</td>\n",
       "    </tr>\n",
       "    <tr>\n",
       "      <th>2022</th>\n",
       "      <td>1_matches</td>\n",
       "      <td>5992</td>\n",
       "      <td>1388</td>\n",
       "      <td>4.317003</td>\n",
       "    </tr>\n",
       "    <tr>\n",
       "      <th>2023</th>\n",
       "      <td>1A_matches</td>\n",
       "      <td>8297</td>\n",
       "      <td>2385</td>\n",
       "      <td>3.478826</td>\n",
       "    </tr>\n",
       "    <tr>\n",
       "      <th>2023</th>\n",
       "      <td>1_matches</td>\n",
       "      <td>8272</td>\n",
       "      <td>2385</td>\n",
       "      <td>3.468344</td>\n",
       "    </tr>\n",
       "    <tr>\n",
       "      <th>2024</th>\n",
       "      <td>1A_matches</td>\n",
       "      <td>16588</td>\n",
       "      <td>3098</td>\n",
       "      <td>5.354422</td>\n",
       "    </tr>\n",
       "    <tr>\n",
       "      <th>2024</th>\n",
       "      <td>1_matches</td>\n",
       "      <td>10189</td>\n",
       "      <td>3098</td>\n",
       "      <td>3.288896</td>\n",
       "    </tr>\n",
       "  </tbody>\n",
       "</table>\n",
       "</div>"
      ],
      "text/plain": [
       "                      item  unique_mentions  total_companies  \\\n",
       "reporting_year                                                 \n",
       "2020            1A_matches              661              901   \n",
       "2020             1_matches             3310              901   \n",
       "2021            1A_matches             1351             1310   \n",
       "2021             1_matches             5605             1310   \n",
       "2022            1A_matches             1728             1388   \n",
       "2022             1_matches             5992             1388   \n",
       "2023            1A_matches             8297             2385   \n",
       "2023             1_matches             8272             2385   \n",
       "2024            1A_matches            16588             3098   \n",
       "2024             1_matches            10189             3098   \n",
       "\n",
       "                avg_mentions_per_item  \n",
       "reporting_year                         \n",
       "2020                         0.733629  \n",
       "2020                         3.673696  \n",
       "2021                         1.031298  \n",
       "2021                         4.278626  \n",
       "2022                         1.244957  \n",
       "2022                         4.317003  \n",
       "2023                         3.478826  \n",
       "2023                         3.468344  \n",
       "2024                         5.354422  \n",
       "2024                         3.288896  "
      ]
     },
     "execution_count": 287,
     "metadata": {},
     "output_type": "execute_result"
    }
   ],
   "source": [
    "avg_mention_per_item"
   ]
  },
  {
   "cell_type": "markdown",
   "metadata": {},
   "source": [
    "# Item 1 and 1A company overlap"
   ]
  },
  {
   "cell_type": "code",
   "execution_count": 48,
   "metadata": {},
   "outputs": [],
   "source": [
    "# Pivot on the match_field\n",
    "mention_types = ai_mentions.groupby(['reporting_year', 'match_field', 'cik']).nunique()[['sentence']].reset_index().pivot(index=['reporting_year', 'cik'], columns='match_field', values='sentence').fillna(0).reset_index()"
   ]
  },
  {
   "cell_type": "code",
   "execution_count": 59,
   "metadata": {},
   "outputs": [],
   "source": [
    "only_risk = mention_types[(mention_types['1A_matches'] > 0) & (mention_types['1_matches'] == 0) & (mention_types.reporting_year == 2024)].shape[0]"
   ]
  },
  {
   "cell_type": "code",
   "execution_count": 60,
   "metadata": {},
   "outputs": [],
   "source": [
    "only_business = mention_types[(mention_types['1A_matches'] == 0) & (mention_types['1_matches'] > 0) & (mention_types.reporting_year == 2024)].shape[0]"
   ]
  },
  {
   "cell_type": "code",
   "execution_count": 61,
   "metadata": {},
   "outputs": [],
   "source": [
    "both = mention_types[(mention_types['1A_matches'] > 0) & (mention_types['1_matches'] > 0) & (mention_types.reporting_year == 2024)].shape[0]"
   ]
  },
  {
   "cell_type": "code",
   "execution_count": 62,
   "metadata": {},
   "outputs": [],
   "source": [
    "neither = mention_types[(mention_types['1A_matches'] == 0) & (mention_types['1_matches'] == 0) & (mention_types.reporting_year == 2024)].shape[0]"
   ]
  },
  {
   "cell_type": "code",
   "execution_count": 154,
   "metadata": {},
   "outputs": [
    {
     "data": {
      "text/plain": [
       "0.23844520659807283"
      ]
     },
     "execution_count": 154,
     "metadata": {},
     "output_type": "execute_result"
    }
   ],
   "source": [
    "business_mentioned = mention_types[(mention_types['1_matches'] > 0) & (mention_types.reporting_year == 2024)].shape[0]\n",
    "business_mentioned/ companies_per_year.loc[2024, 'companies']"
   ]
  },
  {
   "cell_type": "code",
   "execution_count": 95,
   "metadata": {},
   "outputs": [
    {
     "name": "stdout",
     "output_type": "stream",
     "text": [
      "Out of 6123 companies that filed a 10-K form in 2024, 3098 mentioned AI, which represents 50.60%:\n",
      "1582 companies only mentioned AI in the Risk Factors section, which represents 25.84% of the total.\n",
      "400 companies only mentioned AI in the Business section, which represents 6.53% of the total.\n",
      "1060 companies mentioned AI in both sections, which represents 17.31% of the total.\n"
     ]
    }
   ],
   "source": [
    "print(f\"Out of {companies_per_year.loc[2024].companies} companies that filed a 10-K form in 2024, {companies_ai_mentioned.loc[2024].companies} mentioned AI, which represents {companies_ai_mentioned_norm.loc[2024].companies_per*100:.2f}%:\")\n",
    "print(f\"{only_risk} companies only mentioned AI in the Risk Factors section, which represents {only_risk/companies_per_year.loc[2024].companies*100:.2f}% of the total.\")\n",
    "print(f\"{only_business} companies only mentioned AI in the Business section, which represents {only_business/companies_per_year.loc[2024].companies*100:.2f}% of the total.\")\n",
    "print(f\"{both} companies mentioned AI in both sections, which represents {both/companies_per_year.loc[2024].companies*100:.2f}% of the total.\")"
   ]
  },
  {
   "cell_type": "code",
   "execution_count": 282,
   "metadata": {},
   "outputs": [
    {
     "data": {
      "text/plain": [
       "43.14878327617181"
      ]
     },
     "execution_count": 282,
     "metadata": {},
     "output_type": "execute_result"
    }
   ],
   "source": [
    " mention_types[(mention_types['1A_matches'] > 0)  & (mention_types.reporting_year == 2024)].shape[0]/companies_per_year.loc[2024].companies*100"
   ]
  },
  {
   "cell_type": "code",
   "execution_count": 92,
   "metadata": {},
   "outputs": [
    {
     "data": {
      "text/plain": [
       "50.59611301649518"
      ]
     },
     "execution_count": 92,
     "metadata": {},
     "output_type": "execute_result"
    }
   ],
   "source": [
    "companies_ai_mentioned_norm.loc[2024].companies_per * 100"
   ]
  },
  {
   "cell_type": "code",
   "execution_count": 293,
   "metadata": {},
   "outputs": [
    {
     "data": {
      "text/plain": [
       "array([  661,  3310,  1351,  5605,  1728,  5992,  8297,  8272, 16588,\n",
       "       10189], dtype=int64)"
      ]
     },
     "execution_count": 293,
     "metadata": {},
     "output_type": "execute_result"
    }
   ],
   "source": [
    "grouped['sentence', 'nunique'].values"
   ]
  },
  {
   "cell_type": "code",
   "execution_count": 294,
   "metadata": {},
   "outputs": [
    {
     "name": "stdout",
     "output_type": "stream",
     "text": [
      "At the same time, the total number of AI risk-related mentions has grown by more than 959.9537037037036 from 2022 to 2024. We see an average of x unique AI-risk sentences per company. \n"
     ]
    }
   ],
   "source": [
    "grouped = ai_mentions[ai_mentions.match_field.isin(['1_matches', '1A_matches'])].groupby(['reporting_year', 'match_field']).agg(['nunique'])[['sentence']].reset_index().set_index(['reporting_year', 'match_field'])\n",
    "print(f\"At the same time, the total number of AI risk-related mentions has grown by more than {grouped.loc[2024, '1A_matches']['sentence', 'nunique']/grouped.loc[2022, '1A_matches']['sentence', 'nunique']*100} from 2022 to 2024. We see an average of x unique AI-risk sentences per company. \")"
   ]
  },
  {
   "cell_type": "markdown",
   "metadata": {},
   "source": [
    "# Industry level"
   ]
  },
  {
   "cell_type": "code",
   "execution_count": 299,
   "metadata": {},
   "outputs": [],
   "source": [
    "sic_codes = pd.read_csv(r'C:\\Users\\P70088982\\Documents\\edgar-crawler\\datasets\\sic_codes.csv').set_index('SIC Code')"
   ]
  },
  {
   "cell_type": "code",
   "execution_count": 300,
   "metadata": {},
   "outputs": [
    {
     "data": {
      "text/plain": [
       "50744"
      ]
     },
     "execution_count": 300,
     "metadata": {},
     "output_type": "execute_result"
    }
   ],
   "source": [
    "ai_mentions.sentence.nunique()"
   ]
  },
  {
   "cell_type": "code",
   "execution_count": 301,
   "metadata": {},
   "outputs": [],
   "source": [
    "ai_mentions.cik = ai_mentions.cik.astype(int)"
   ]
  },
  {
   "cell_type": "code",
   "execution_count": 302,
   "metadata": {},
   "outputs": [],
   "source": [
    "df = ai_mentions.set_index('cik').join(filings_metadata.sort_values('reporting_year', ascending=False).groupby(['CIK'])['SIC'].first(), how='left').reset_index().rename(columns={'index': 'cik'})\n",
    "df = df.set_index('SIC').join(sic_codes, how='left').reset_index().rename(columns={'index': 'sic'})"
   ]
  },
  {
   "cell_type": "code",
   "execution_count": 303,
   "metadata": {},
   "outputs": [],
   "source": [
    "grouped = df[df.match_field.isin(['1_matches', '1A_matches'])].groupby(['reporting_year', 'match_field', 'sic', 'Industry Title']).agg(['count', 'nunique'])[['cik']].reset_index()"
   ]
  },
  {
   "cell_type": "code",
   "execution_count": 305,
   "metadata": {},
   "outputs": [
    {
     "data": {
      "text/html": [
       "<div>\n",
       "<style scoped>\n",
       "    .dataframe tbody tr th:only-of-type {\n",
       "        vertical-align: middle;\n",
       "    }\n",
       "\n",
       "    .dataframe tbody tr th {\n",
       "        vertical-align: top;\n",
       "    }\n",
       "\n",
       "    .dataframe thead th {\n",
       "        text-align: right;\n",
       "    }\n",
       "</style>\n",
       "<table border=\"1\" class=\"dataframe\">\n",
       "  <thead>\n",
       "    <tr style=\"text-align: right;\">\n",
       "      <th></th>\n",
       "      <th>sic</th>\n",
       "      <th>cik</th>\n",
       "      <th>company</th>\n",
       "      <th>filing_date</th>\n",
       "      <th>period_of_report</th>\n",
       "      <th>filename</th>\n",
       "      <th>keyword</th>\n",
       "      <th>sentence</th>\n",
       "      <th>match_id</th>\n",
       "      <th>match_field</th>\n",
       "      <th>filing_year</th>\n",
       "      <th>reporting_year</th>\n",
       "      <th>Office</th>\n",
       "      <th>Industry Title</th>\n",
       "    </tr>\n",
       "  </thead>\n",
       "  <tbody>\n",
       "    <tr>\n",
       "      <th>69797</th>\n",
       "      <td>7372</td>\n",
       "      <td>789019</td>\n",
       "      <td>MICROSOFT CORP</td>\n",
       "      <td>2020-07-30</td>\n",
       "      <td>2020-06-30</td>\n",
       "      <td>789019_10K_2020_0001564590-20-034944.htm</td>\n",
       "      <td>Artificial intelligence</td>\n",
       "      <td>Artificial intelligence (“AI”) capabilities ar...</td>\n",
       "      <td>789019_1_Artificial intelligence_3172_3281</td>\n",
       "      <td>1_matches</td>\n",
       "      <td>2020</td>\n",
       "      <td>2020</td>\n",
       "      <td>Office of Technology</td>\n",
       "      <td>SERVICES-PREPACKAGED SOFTWARE</td>\n",
       "    </tr>\n",
       "    <tr>\n",
       "      <th>69798</th>\n",
       "      <td>7372</td>\n",
       "      <td>789019</td>\n",
       "      <td>MICROSOFT CORP</td>\n",
       "      <td>2020-07-30</td>\n",
       "      <td>2020-06-30</td>\n",
       "      <td>789019_10K_2020_0001564590-20-034944.htm</td>\n",
       "      <td>AI</td>\n",
       "      <td>Artificial intelligence (“AI”) capabilities ar...</td>\n",
       "      <td>789019_1_AI_3172_3281</td>\n",
       "      <td>1_matches</td>\n",
       "      <td>2020</td>\n",
       "      <td>2020</td>\n",
       "      <td>Office of Technology</td>\n",
       "      <td>SERVICES-PREPACKAGED SOFTWARE</td>\n",
       "    </tr>\n",
       "    <tr>\n",
       "      <th>69799</th>\n",
       "      <td>7372</td>\n",
       "      <td>789019</td>\n",
       "      <td>MICROSOFT CORP</td>\n",
       "      <td>2020-07-30</td>\n",
       "      <td>2020-06-30</td>\n",
       "      <td>789019_10K_2020_0001564590-20-034944.htm</td>\n",
       "      <td>AI</td>\n",
       "      <td>Microsoft 365 brings together Office 365, Wind...</td>\n",
       "      <td>789019_1_AI_5272_5555</td>\n",
       "      <td>1_matches</td>\n",
       "      <td>2020</td>\n",
       "      <td>2020</td>\n",
       "      <td>Office of Technology</td>\n",
       "      <td>SERVICES-PREPACKAGED SOFTWARE</td>\n",
       "    </tr>\n",
       "    <tr>\n",
       "      <th>69800</th>\n",
       "      <td>7372</td>\n",
       "      <td>789019</td>\n",
       "      <td>MICROSOFT CORP</td>\n",
       "      <td>2020-07-30</td>\n",
       "      <td>2020-06-30</td>\n",
       "      <td>789019_10K_2020_0001564590-20-034944.htm</td>\n",
       "      <td>AI</td>\n",
       "      <td>Azure is a trusted cloud with comprehensive co...</td>\n",
       "      <td>789019_1_AI_7162_7257</td>\n",
       "      <td>1_matches</td>\n",
       "      <td>2020</td>\n",
       "      <td>2020</td>\n",
       "      <td>Office of Technology</td>\n",
       "      <td>SERVICES-PREPACKAGED SOFTWARE</td>\n",
       "    </tr>\n",
       "    <tr>\n",
       "      <th>69801</th>\n",
       "      <td>7372</td>\n",
       "      <td>789019</td>\n",
       "      <td>MICROSOFT CORP</td>\n",
       "      <td>2020-07-30</td>\n",
       "      <td>2020-06-30</td>\n",
       "      <td>789019_10K_2020_0001564590-20-034944.htm</td>\n",
       "      <td>AI</td>\n",
       "      <td>Being a global-scale cloud, Azure uniquely off...</td>\n",
       "      <td>789019_1_AI_7787_7934</td>\n",
       "      <td>1_matches</td>\n",
       "      <td>2020</td>\n",
       "      <td>2020</td>\n",
       "      <td>Office of Technology</td>\n",
       "      <td>SERVICES-PREPACKAGED SOFTWARE</td>\n",
       "    </tr>\n",
       "    <tr>\n",
       "      <th>...</th>\n",
       "      <td>...</td>\n",
       "      <td>...</td>\n",
       "      <td>...</td>\n",
       "      <td>...</td>\n",
       "      <td>...</td>\n",
       "      <td>...</td>\n",
       "      <td>...</td>\n",
       "      <td>...</td>\n",
       "      <td>...</td>\n",
       "      <td>...</td>\n",
       "      <td>...</td>\n",
       "      <td>...</td>\n",
       "      <td>...</td>\n",
       "      <td>...</td>\n",
       "    </tr>\n",
       "    <tr>\n",
       "      <th>70154</th>\n",
       "      <td>7372</td>\n",
       "      <td>789019</td>\n",
       "      <td>MICROSOFT CORP</td>\n",
       "      <td>2024-07-30</td>\n",
       "      <td>2024-06-30</td>\n",
       "      <td>789019_10K_2024_0000950170-24-087843.htm</td>\n",
       "      <td>AI</td>\n",
       "      <td>The investments we are making in cloud and AI ...</td>\n",
       "      <td>789019_7_AI_4812_4970</td>\n",
       "      <td>7_matches</td>\n",
       "      <td>2024</td>\n",
       "      <td>2024</td>\n",
       "      <td>Office of Technology</td>\n",
       "      <td>SERVICES-PREPACKAGED SOFTWARE</td>\n",
       "    </tr>\n",
       "    <tr>\n",
       "      <th>70155</th>\n",
       "      <td>7372</td>\n",
       "      <td>789019</td>\n",
       "      <td>MICROSOFT CORP</td>\n",
       "      <td>2024-07-30</td>\n",
       "      <td>2024-06-30</td>\n",
       "      <td>789019_10K_2024_0000950170-24-087843.htm</td>\n",
       "      <td>AI</td>\n",
       "      <td>We continue to identify and evaluate opportuni...</td>\n",
       "      <td>789019_7_AI_4971_5189</td>\n",
       "      <td>7_matches</td>\n",
       "      <td>2024</td>\n",
       "      <td>2024</td>\n",
       "      <td>Office of Technology</td>\n",
       "      <td>SERVICES-PREPACKAGED SOFTWARE</td>\n",
       "    </tr>\n",
       "    <tr>\n",
       "      <th>70156</th>\n",
       "      <td>7372</td>\n",
       "      <td>789019</td>\n",
       "      <td>MICROSOFT CORP</td>\n",
       "      <td>2024-07-30</td>\n",
       "      <td>2024-06-30</td>\n",
       "      <td>789019_10K_2024_0000950170-24-087843.htm</td>\n",
       "      <td>AI</td>\n",
       "      <td>Excluding the impact of the change in accounti...</td>\n",
       "      <td>789019_7_AI_14912_15176</td>\n",
       "      <td>7_matches</td>\n",
       "      <td>2024</td>\n",
       "      <td>2024</td>\n",
       "      <td>Office of Technology</td>\n",
       "      <td>SERVICES-PREPACKAGED SOFTWARE</td>\n",
       "    </tr>\n",
       "    <tr>\n",
       "      <th>70157</th>\n",
       "      <td>7372</td>\n",
       "      <td>789019</td>\n",
       "      <td>MICROSOFT CORP</td>\n",
       "      <td>2024-07-30</td>\n",
       "      <td>2024-06-30</td>\n",
       "      <td>789019_10K_2024_0000950170-24-087843.htm</td>\n",
       "      <td>AI</td>\n",
       "      <td>Excluding the impact of the change in accounti...</td>\n",
       "      <td>789019_7_AI_17880_18111</td>\n",
       "      <td>7_matches</td>\n",
       "      <td>2024</td>\n",
       "      <td>2024</td>\n",
       "      <td>Office of Technology</td>\n",
       "      <td>SERVICES-PREPACKAGED SOFTWARE</td>\n",
       "    </tr>\n",
       "    <tr>\n",
       "      <th>70158</th>\n",
       "      <td>7372</td>\n",
       "      <td>789019</td>\n",
       "      <td>MICROSOFT CORP</td>\n",
       "      <td>2024-07-30</td>\n",
       "      <td>2024-06-30</td>\n",
       "      <td>789019_10K_2024_0000950170-24-087843.htm</td>\n",
       "      <td>AI</td>\n",
       "      <td>We expect capital expenditures to increase in ...</td>\n",
       "      <td>789019_7_AI_35403_35557</td>\n",
       "      <td>7_matches</td>\n",
       "      <td>2024</td>\n",
       "      <td>2024</td>\n",
       "      <td>Office of Technology</td>\n",
       "      <td>SERVICES-PREPACKAGED SOFTWARE</td>\n",
       "    </tr>\n",
       "  </tbody>\n",
       "</table>\n",
       "<p>362 rows × 14 columns</p>\n",
       "</div>"
      ],
      "text/plain": [
       "        sic     cik         company filing_date period_of_report  \\\n",
       "69797  7372  789019  MICROSOFT CORP  2020-07-30       2020-06-30   \n",
       "69798  7372  789019  MICROSOFT CORP  2020-07-30       2020-06-30   \n",
       "69799  7372  789019  MICROSOFT CORP  2020-07-30       2020-06-30   \n",
       "69800  7372  789019  MICROSOFT CORP  2020-07-30       2020-06-30   \n",
       "69801  7372  789019  MICROSOFT CORP  2020-07-30       2020-06-30   \n",
       "...     ...     ...             ...         ...              ...   \n",
       "70154  7372  789019  MICROSOFT CORP  2024-07-30       2024-06-30   \n",
       "70155  7372  789019  MICROSOFT CORP  2024-07-30       2024-06-30   \n",
       "70156  7372  789019  MICROSOFT CORP  2024-07-30       2024-06-30   \n",
       "70157  7372  789019  MICROSOFT CORP  2024-07-30       2024-06-30   \n",
       "70158  7372  789019  MICROSOFT CORP  2024-07-30       2024-06-30   \n",
       "\n",
       "                                       filename                  keyword  \\\n",
       "69797  789019_10K_2020_0001564590-20-034944.htm  Artificial intelligence   \n",
       "69798  789019_10K_2020_0001564590-20-034944.htm                       AI   \n",
       "69799  789019_10K_2020_0001564590-20-034944.htm                       AI   \n",
       "69800  789019_10K_2020_0001564590-20-034944.htm                       AI   \n",
       "69801  789019_10K_2020_0001564590-20-034944.htm                       AI   \n",
       "...                                         ...                      ...   \n",
       "70154  789019_10K_2024_0000950170-24-087843.htm                       AI   \n",
       "70155  789019_10K_2024_0000950170-24-087843.htm                       AI   \n",
       "70156  789019_10K_2024_0000950170-24-087843.htm                       AI   \n",
       "70157  789019_10K_2024_0000950170-24-087843.htm                       AI   \n",
       "70158  789019_10K_2024_0000950170-24-087843.htm                       AI   \n",
       "\n",
       "                                                sentence  \\\n",
       "69797  Artificial intelligence (“AI”) capabilities ar...   \n",
       "69798  Artificial intelligence (“AI”) capabilities ar...   \n",
       "69799  Microsoft 365 brings together Office 365, Wind...   \n",
       "69800  Azure is a trusted cloud with comprehensive co...   \n",
       "69801  Being a global-scale cloud, Azure uniquely off...   \n",
       "...                                                  ...   \n",
       "70154  The investments we are making in cloud and AI ...   \n",
       "70155  We continue to identify and evaluate opportuni...   \n",
       "70156  Excluding the impact of the change in accounti...   \n",
       "70157  Excluding the impact of the change in accounti...   \n",
       "70158  We expect capital expenditures to increase in ...   \n",
       "\n",
       "                                         match_id match_field  filing_year  \\\n",
       "69797  789019_1_Artificial intelligence_3172_3281   1_matches         2020   \n",
       "69798                       789019_1_AI_3172_3281   1_matches         2020   \n",
       "69799                       789019_1_AI_5272_5555   1_matches         2020   \n",
       "69800                       789019_1_AI_7162_7257   1_matches         2020   \n",
       "69801                       789019_1_AI_7787_7934   1_matches         2020   \n",
       "...                                           ...         ...          ...   \n",
       "70154                       789019_7_AI_4812_4970   7_matches         2024   \n",
       "70155                       789019_7_AI_4971_5189   7_matches         2024   \n",
       "70156                     789019_7_AI_14912_15176   7_matches         2024   \n",
       "70157                     789019_7_AI_17880_18111   7_matches         2024   \n",
       "70158                     789019_7_AI_35403_35557   7_matches         2024   \n",
       "\n",
       "       reporting_year                Office                 Industry Title  \n",
       "69797            2020  Office of Technology  SERVICES-PREPACKAGED SOFTWARE  \n",
       "69798            2020  Office of Technology  SERVICES-PREPACKAGED SOFTWARE  \n",
       "69799            2020  Office of Technology  SERVICES-PREPACKAGED SOFTWARE  \n",
       "69800            2020  Office of Technology  SERVICES-PREPACKAGED SOFTWARE  \n",
       "69801            2020  Office of Technology  SERVICES-PREPACKAGED SOFTWARE  \n",
       "...               ...                   ...                            ...  \n",
       "70154            2024  Office of Technology  SERVICES-PREPACKAGED SOFTWARE  \n",
       "70155            2024  Office of Technology  SERVICES-PREPACKAGED SOFTWARE  \n",
       "70156            2024  Office of Technology  SERVICES-PREPACKAGED SOFTWARE  \n",
       "70157            2024  Office of Technology  SERVICES-PREPACKAGED SOFTWARE  \n",
       "70158            2024  Office of Technology  SERVICES-PREPACKAGED SOFTWARE  \n",
       "\n",
       "[362 rows x 14 columns]"
      ]
     },
     "execution_count": 305,
     "metadata": {},
     "output_type": "execute_result"
    }
   ],
   "source": [
    "df[df.company.isin(['MICROSOFT CORP'])]"
   ]
  },
  {
   "cell_type": "code",
   "execution_count": 147,
   "metadata": {},
   "outputs": [],
   "source": [
    "top_5 = grouped[grouped.sic.isin(grouped[grouped.reporting_year==2024].sort_values(by=[('cik', 'nunique')], ascending=False).head(5).sic)]"
   ]
  },
  {
   "cell_type": "code",
   "execution_count": null,
   "metadata": {},
   "outputs": [],
   "source": [
    "top_15_sic = filings_metadata[filings_metadata.reporting_year == 2024].SIC.value_counts().head(15).index.tolist()"
   ]
  },
  {
   "cell_type": "code",
   "execution_count": 168,
   "metadata": {},
   "outputs": [],
   "source": [
    "top_15_sic = filings_metadata[filings_metadata.reporting_year == 2024].SIC.value_counts().head(15).index.tolist()"
   ]
  },
  {
   "cell_type": "code",
   "execution_count": 193,
   "metadata": {},
   "outputs": [],
   "source": [
    "companies_per_sic_per_year = filings_metadata.groupby(['reporting_year', 'SIC']).nunique()[['CIK']].rename(columns={'CIK': 'total_companies'})"
   ]
  },
  {
   "cell_type": "code",
   "execution_count": 200,
   "metadata": {},
   "outputs": [],
   "source": [
    "# Make sure it's 20 SIC codes\n",
    "overall_2024 = grouped[(grouped.sic.isin(top_15_sic)) & (grouped.reporting_year==2024)].sort_values(['match_field', ('cik', 'nunique')], ascending=[True, False])\n",
    "overall_2024.columns = ['reporting_year', 'match_field', 'sic', 'Industry Title', 'mentions', 'unique_companies']\n",
    "overall_2024 = overall_2024.drop(columns='mentions')\n",
    "overall_2024 = overall_2024.set_index('sic').join(companies_per_sic_per_year.loc[2024][['total_companies']])\n",
    "overall_2024['companies_proportion'] = overall_2024.unique_companies/overall_2024.total_companies\n",
    "overall_2024 = overall_2024.sort_values(['match_field', 'unique_companies'], ascending=[True, False])"
   ]
  },
  {
   "cell_type": "code",
   "execution_count": 241,
   "metadata": {},
   "outputs": [
    {
     "data": {
      "image/png": "[encoded data removed]",
      "text/plain": [
       "<Figure size 1035x600 with 1 Axes>"
      ]
     },
     "metadata": {},
     "output_type": "display_data"
    }
   ],
   "source": [
    "# Turn it into a proportion of filings frm the given SIC code that were filed in 2024 (basically normalizing as we did in the other plots)\n",
    "# Add a risks plot over time per SIC code of the top 20 SIC codes\n",
    "sns.catplot(data=overall_2024.sort_values(['match_field', 'unique_companies'], ascending=[True, False]), hue='match_field', x='unique_companies', y='Industry Title', kind='bar', palette = [\"salmon\", \"darkgrey\"], height=6, aspect=1.5)\n",
    "# Rotate the y-axis labels\n",
    "plt.xticks(rotation=45)\n",
    "plt.savefig('../figures/2024_business_risk_per_sector.jpg', dpi=300, bbox_inches='tight')\n"
   ]
  },
  {
   "cell_type": "code",
   "execution_count": null,
   "metadata": {},
   "outputs": [],
   "source": [
    "# Maybe a plot with the distrbution of companies per SIC in 2024?"
   ]
  },
  {
   "cell_type": "code",
   "execution_count": 240,
   "metadata": {},
   "outputs": [
    {
     "data": {
      "text/html": [
       "<div>\n",
       "<style scoped>\n",
       "    .dataframe tbody tr th:only-of-type {\n",
       "        vertical-align: middle;\n",
       "    }\n",
       "\n",
       "    .dataframe tbody tr th {\n",
       "        vertical-align: top;\n",
       "    }\n",
       "\n",
       "    .dataframe thead th {\n",
       "        text-align: right;\n",
       "    }\n",
       "</style>\n",
       "<table border=\"1\" class=\"dataframe\">\n",
       "  <thead>\n",
       "    <tr style=\"text-align: right;\">\n",
       "      <th></th>\n",
       "      <th>reporting_year</th>\n",
       "      <th>match_field</th>\n",
       "      <th>Industry Title</th>\n",
       "      <th>unique_companies</th>\n",
       "      <th>total_companies</th>\n",
       "      <th>companies_proportion</th>\n",
       "    </tr>\n",
       "  </thead>\n",
       "  <tbody>\n",
       "    <tr>\n",
       "      <th>6770</th>\n",
       "      <td>2024</td>\n",
       "      <td>1A_matches</td>\n",
       "      <td>BLANK CHECKS</td>\n",
       "      <td>6</td>\n",
       "      <td>132</td>\n",
       "      <td>0.045455</td>\n",
       "    </tr>\n",
       "    <tr>\n",
       "      <th>6221</th>\n",
       "      <td>2024</td>\n",
       "      <td>1A_matches</td>\n",
       "      <td>COMMODITY CONTRACTS BROKERS &amp; DEALERS</td>\n",
       "      <td>9</td>\n",
       "      <td>91</td>\n",
       "      <td>0.098901</td>\n",
       "    </tr>\n",
       "    <tr>\n",
       "      <th>1311</th>\n",
       "      <td>2024</td>\n",
       "      <td>1A_matches</td>\n",
       "      <td>CRUDE PETROLEUM &amp; NATURAL GAS</td>\n",
       "      <td>26</td>\n",
       "      <td>91</td>\n",
       "      <td>0.285714</td>\n",
       "    </tr>\n",
       "    <tr>\n",
       "      <th>2834</th>\n",
       "      <td>2024</td>\n",
       "      <td>1A_matches</td>\n",
       "      <td>PHARMACEUTICAL PREPARATIONS</td>\n",
       "      <td>211</td>\n",
       "      <td>484</td>\n",
       "      <td>0.435950</td>\n",
       "    </tr>\n",
       "    <tr>\n",
       "      <th>3841</th>\n",
       "      <td>2024</td>\n",
       "      <td>1A_matches</td>\n",
       "      <td>SURGICAL &amp; MEDICAL INSTRUMENTS &amp; APPARATUS</td>\n",
       "      <td>57</td>\n",
       "      <td>126</td>\n",
       "      <td>0.452381</td>\n",
       "    </tr>\n",
       "    <tr>\n",
       "      <th>6798</th>\n",
       "      <td>2024</td>\n",
       "      <td>1A_matches</td>\n",
       "      <td>REAL ESTATE INVESTMENT TRUSTS</td>\n",
       "      <td>134</td>\n",
       "      <td>281</td>\n",
       "      <td>0.476868</td>\n",
       "    </tr>\n",
       "    <tr>\n",
       "      <th>2836</th>\n",
       "      <td>2024</td>\n",
       "      <td>1A_matches</td>\n",
       "      <td>BIOLOGICAL PRODUCTS, (NO DISGNOSTIC SUBSTANCES)</td>\n",
       "      <td>79</td>\n",
       "      <td>160</td>\n",
       "      <td>0.493750</td>\n",
       "    </tr>\n",
       "    <tr>\n",
       "      <th>3674</th>\n",
       "      <td>2024</td>\n",
       "      <td>1A_matches</td>\n",
       "      <td>SEMICONDUCTORS &amp; RELATED DEVICES</td>\n",
       "      <td>43</td>\n",
       "      <td>80</td>\n",
       "      <td>0.537500</td>\n",
       "    </tr>\n",
       "    <tr>\n",
       "      <th>6022</th>\n",
       "      <td>2024</td>\n",
       "      <td>1A_matches</td>\n",
       "      <td>STATE COMMERCIAL BANKS</td>\n",
       "      <td>112</td>\n",
       "      <td>180</td>\n",
       "      <td>0.622222</td>\n",
       "    </tr>\n",
       "    <tr>\n",
       "      <th>4911</th>\n",
       "      <td>2024</td>\n",
       "      <td>1A_matches</td>\n",
       "      <td>ELECTRIC SERVICES</td>\n",
       "      <td>79</td>\n",
       "      <td>122</td>\n",
       "      <td>0.647541</td>\n",
       "    </tr>\n",
       "    <tr>\n",
       "      <th>6021</th>\n",
       "      <td>2024</td>\n",
       "      <td>1A_matches</td>\n",
       "      <td>NATIONAL COMMERCIAL BANKS</td>\n",
       "      <td>62</td>\n",
       "      <td>92</td>\n",
       "      <td>0.673913</td>\n",
       "    </tr>\n",
       "    <tr>\n",
       "      <th>7389</th>\n",
       "      <td>2024</td>\n",
       "      <td>1A_matches</td>\n",
       "      <td>SERVICES-BUSINESS SERVICES, NEC</td>\n",
       "      <td>67</td>\n",
       "      <td>88</td>\n",
       "      <td>0.761364</td>\n",
       "    </tr>\n",
       "    <tr>\n",
       "      <th>7372</th>\n",
       "      <td>2024</td>\n",
       "      <td>1A_matches</td>\n",
       "      <td>SERVICES-PREPACKAGED SOFTWARE</td>\n",
       "      <td>154</td>\n",
       "      <td>196</td>\n",
       "      <td>0.785714</td>\n",
       "    </tr>\n",
       "    <tr>\n",
       "      <th>6021</th>\n",
       "      <td>2024</td>\n",
       "      <td>1_matches</td>\n",
       "      <td>NATIONAL COMMERCIAL BANKS</td>\n",
       "      <td>4</td>\n",
       "      <td>92</td>\n",
       "      <td>0.043478</td>\n",
       "    </tr>\n",
       "    <tr>\n",
       "      <th>1311</th>\n",
       "      <td>2024</td>\n",
       "      <td>1_matches</td>\n",
       "      <td>CRUDE PETROLEUM &amp; NATURAL GAS</td>\n",
       "      <td>5</td>\n",
       "      <td>91</td>\n",
       "      <td>0.054945</td>\n",
       "    </tr>\n",
       "    <tr>\n",
       "      <th>6798</th>\n",
       "      <td>2024</td>\n",
       "      <td>1_matches</td>\n",
       "      <td>REAL ESTATE INVESTMENT TRUSTS</td>\n",
       "      <td>21</td>\n",
       "      <td>281</td>\n",
       "      <td>0.074733</td>\n",
       "    </tr>\n",
       "    <tr>\n",
       "      <th>6022</th>\n",
       "      <td>2024</td>\n",
       "      <td>1_matches</td>\n",
       "      <td>STATE COMMERCIAL BANKS</td>\n",
       "      <td>17</td>\n",
       "      <td>180</td>\n",
       "      <td>0.094444</td>\n",
       "    </tr>\n",
       "    <tr>\n",
       "      <th>2834</th>\n",
       "      <td>2024</td>\n",
       "      <td>1_matches</td>\n",
       "      <td>PHARMACEUTICAL PREPARATIONS</td>\n",
       "      <td>91</td>\n",
       "      <td>484</td>\n",
       "      <td>0.188017</td>\n",
       "    </tr>\n",
       "    <tr>\n",
       "      <th>6770</th>\n",
       "      <td>2024</td>\n",
       "      <td>1_matches</td>\n",
       "      <td>BLANK CHECKS</td>\n",
       "      <td>31</td>\n",
       "      <td>132</td>\n",
       "      <td>0.234848</td>\n",
       "    </tr>\n",
       "    <tr>\n",
       "      <th>4911</th>\n",
       "      <td>2024</td>\n",
       "      <td>1_matches</td>\n",
       "      <td>ELECTRIC SERVICES</td>\n",
       "      <td>29</td>\n",
       "      <td>122</td>\n",
       "      <td>0.237705</td>\n",
       "    </tr>\n",
       "    <tr>\n",
       "      <th>3841</th>\n",
       "      <td>2024</td>\n",
       "      <td>1_matches</td>\n",
       "      <td>SURGICAL &amp; MEDICAL INSTRUMENTS &amp; APPARATUS</td>\n",
       "      <td>32</td>\n",
       "      <td>126</td>\n",
       "      <td>0.253968</td>\n",
       "    </tr>\n",
       "    <tr>\n",
       "      <th>2836</th>\n",
       "      <td>2024</td>\n",
       "      <td>1_matches</td>\n",
       "      <td>BIOLOGICAL PRODUCTS, (NO DISGNOSTIC SUBSTANCES)</td>\n",
       "      <td>45</td>\n",
       "      <td>160</td>\n",
       "      <td>0.281250</td>\n",
       "    </tr>\n",
       "    <tr>\n",
       "      <th>7389</th>\n",
       "      <td>2024</td>\n",
       "      <td>1_matches</td>\n",
       "      <td>SERVICES-BUSINESS SERVICES, NEC</td>\n",
       "      <td>55</td>\n",
       "      <td>88</td>\n",
       "      <td>0.625000</td>\n",
       "    </tr>\n",
       "    <tr>\n",
       "      <th>3674</th>\n",
       "      <td>2024</td>\n",
       "      <td>1_matches</td>\n",
       "      <td>SEMICONDUCTORS &amp; RELATED DEVICES</td>\n",
       "      <td>53</td>\n",
       "      <td>80</td>\n",
       "      <td>0.662500</td>\n",
       "    </tr>\n",
       "    <tr>\n",
       "      <th>7372</th>\n",
       "      <td>2024</td>\n",
       "      <td>1_matches</td>\n",
       "      <td>SERVICES-PREPACKAGED SOFTWARE</td>\n",
       "      <td>160</td>\n",
       "      <td>196</td>\n",
       "      <td>0.816327</td>\n",
       "    </tr>\n",
       "  </tbody>\n",
       "</table>\n",
       "</div>"
      ],
      "text/plain": [
       "      reporting_year match_field  \\\n",
       "6770            2024  1A_matches   \n",
       "6221            2024  1A_matches   \n",
       "1311            2024  1A_matches   \n",
       "2834            2024  1A_matches   \n",
       "3841            2024  1A_matches   \n",
       "6798            2024  1A_matches   \n",
       "2836            2024  1A_matches   \n",
       "3674            2024  1A_matches   \n",
       "6022            2024  1A_matches   \n",
       "4911            2024  1A_matches   \n",
       "6021            2024  1A_matches   \n",
       "7389            2024  1A_matches   \n",
       "7372            2024  1A_matches   \n",
       "6021            2024   1_matches   \n",
       "1311            2024   1_matches   \n",
       "6798            2024   1_matches   \n",
       "6022            2024   1_matches   \n",
       "2834            2024   1_matches   \n",
       "6770            2024   1_matches   \n",
       "4911            2024   1_matches   \n",
       "3841            2024   1_matches   \n",
       "2836            2024   1_matches   \n",
       "7389            2024   1_matches   \n",
       "3674            2024   1_matches   \n",
       "7372            2024   1_matches   \n",
       "\n",
       "                                       Industry Title  unique_companies  \\\n",
       "6770                                     BLANK CHECKS                 6   \n",
       "6221            COMMODITY CONTRACTS BROKERS & DEALERS                 9   \n",
       "1311                    CRUDE PETROLEUM & NATURAL GAS                26   \n",
       "2834                      PHARMACEUTICAL PREPARATIONS               211   \n",
       "3841       SURGICAL & MEDICAL INSTRUMENTS & APPARATUS                57   \n",
       "6798                    REAL ESTATE INVESTMENT TRUSTS               134   \n",
       "2836  BIOLOGICAL PRODUCTS, (NO DISGNOSTIC SUBSTANCES)                79   \n",
       "3674                 SEMICONDUCTORS & RELATED DEVICES                43   \n",
       "6022                           STATE COMMERCIAL BANKS               112   \n",
       "4911                                ELECTRIC SERVICES                79   \n",
       "6021                        NATIONAL COMMERCIAL BANKS                62   \n",
       "7389                  SERVICES-BUSINESS SERVICES, NEC                67   \n",
       "7372                    SERVICES-PREPACKAGED SOFTWARE               154   \n",
       "6021                        NATIONAL COMMERCIAL BANKS                 4   \n",
       "1311                    CRUDE PETROLEUM & NATURAL GAS                 5   \n",
       "6798                    REAL ESTATE INVESTMENT TRUSTS                21   \n",
       "6022                           STATE COMMERCIAL BANKS                17   \n",
       "2834                      PHARMACEUTICAL PREPARATIONS                91   \n",
       "6770                                     BLANK CHECKS                31   \n",
       "4911                                ELECTRIC SERVICES                29   \n",
       "3841       SURGICAL & MEDICAL INSTRUMENTS & APPARATUS                32   \n",
       "2836  BIOLOGICAL PRODUCTS, (NO DISGNOSTIC SUBSTANCES)                45   \n",
       "7389                  SERVICES-BUSINESS SERVICES, NEC                55   \n",
       "3674                 SEMICONDUCTORS & RELATED DEVICES                53   \n",
       "7372                    SERVICES-PREPACKAGED SOFTWARE               160   \n",
       "\n",
       "      total_companies  companies_proportion  \n",
       "6770              132              0.045455  \n",
       "6221               91              0.098901  \n",
       "1311               91              0.285714  \n",
       "2834              484              0.435950  \n",
       "3841              126              0.452381  \n",
       "6798              281              0.476868  \n",
       "2836              160              0.493750  \n",
       "3674               80              0.537500  \n",
       "6022              180              0.622222  \n",
       "4911              122              0.647541  \n",
       "6021               92              0.673913  \n",
       "7389               88              0.761364  \n",
       "7372              196              0.785714  \n",
       "6021               92              0.043478  \n",
       "1311               91              0.054945  \n",
       "6798              281              0.074733  \n",
       "6022              180              0.094444  \n",
       "2834              484              0.188017  \n",
       "6770              132              0.234848  \n",
       "4911              122              0.237705  \n",
       "3841              126              0.253968  \n",
       "2836              160              0.281250  \n",
       "7389               88              0.625000  \n",
       "3674               80              0.662500  \n",
       "7372              196              0.816327  "
      ]
     },
     "execution_count": 240,
     "metadata": {},
     "output_type": "execute_result"
    }
   ],
   "source": [
    "overall_2024.sort_values(['match_field', 'companies_proportion'])"
   ]
  },
  {
   "cell_type": "code",
   "execution_count": 227,
   "metadata": {},
   "outputs": [
    {
     "data": {
      "text/plain": [
       "(0.0, 1.0)"
      ]
     },
     "execution_count": 227,
     "metadata": {},
     "output_type": "execute_result"
    },
    {
     "data": {
      "image/png": "[encoded data removed]",
      "text/plain": [
       "<Figure size 1035x600 with 1 Axes>"
      ]
     },
     "metadata": {},
     "output_type": "display_data"
    }
   ],
   "source": [
    "# Turn it into a proportion of filings frm the given SIC code that were filed in 2024 (basically normalizing as we did in the other plots)\n",
    "# Add a risks plot over time per SIC code of the top 20 SIC codes\n",
    "sns.catplot(data=overall_2024.sort_values(['match_field', 'companies_proportion'], ascending=[True, False]), hue='match_field', x='companies_proportion', y='Industry Title', kind='bar', palette = [\"salmon\", \"darkgrey\"], height=6, aspect=1.5)\n",
    "# Rotate the y-axis labels\n",
    "plt.xticks(rotation=45)\n",
    "plt.xlim(0,1)\n"
   ]
  },
  {
   "cell_type": "code",
   "execution_count": 233,
   "metadata": {},
   "outputs": [
    {
     "data": {
      "text/plain": [
       "[6189,\n",
       " 2834,\n",
       " 6798,\n",
       " 7372,\n",
       " 6022,\n",
       " 0,\n",
       " 2836,\n",
       " 6770,\n",
       " 4911,\n",
       " 3841,\n",
       " 6221,\n",
       " 6021,\n",
       " 1311,\n",
       " 7389,\n",
       " 3674]"
      ]
     },
     "execution_count": 233,
     "metadata": {},
     "output_type": "execute_result"
    }
   ],
   "source": [
    "top_15_sic"
   ]
  },
  {
   "cell_type": "code",
   "execution_count": 234,
   "metadata": {},
   "outputs": [],
   "source": [
    "# Make sure it's 20 SIC codes\n",
    "risk_trends = grouped[(grouped.sic.isin(top_15_sic[:10])) & (grouped.match_field=='1A_matches')].sort_values(('cik', 'nunique'), ascending=False)\n",
    "risk_trends.columns = ['reporting_year', 'match_field', 'SIC', 'Industry Title', 'mentions', 'unique_companies']\n",
    "risk_trends = risk_trends.drop(columns=['match_field', 'mentions'])\n",
    "risk_trends = risk_trends.set_index(['reporting_year', 'SIC']).join(companies_per_sic_per_year[['total_companies']])\n",
    "\n",
    "risk_trends['companies_proportion'] = risk_trends.unique_companies/risk_trends.total_companies\n",
    "risk_trends = risk_trends.sort_values(['reporting_year', 'companies_proportion'], ascending=[True, True])"
   ]
  },
  {
   "cell_type": "code",
   "execution_count": 242,
   "metadata": {},
   "outputs": [
    {
     "data": {
      "image/png": "[encoded data removed]",
      "text/plain": [
       "<Figure size 1343.12x600 with 1 Axes>"
      ]
     },
     "metadata": {},
     "output_type": "display_data"
    }
   ],
   "source": [
    "# Turn it into a proportion of filings frm the given SIC code that were filed in 2024 (basically normalizing as we did in the other plots)\n",
    "# Add a risks plot over time per SIC code of the top 20 SIC codes\n",
    "sns.catplot(data=risk_trends, hue='Industry Title', y='companies_proportion', x='reporting_year', kind='bar', height=6, aspect=1.5, palette=\"colorblind\")\n",
    "# Rotate the y-axis labels\n",
    "plt.xticks(rotation=45)\n",
    "plt.ylim(0,1)\n",
    "plt.savefig('../figures/risk_sectoral_over_time.jpg', dpi=300, bbox_inches='tight')"
   ]
  },
  {
   "cell_type": "code",
   "execution_count": null,
   "metadata": {},
   "outputs": [],
   "source": []
  }
 ],
 "metadata": {
  "kernelspec": {
   "display_name": "edgar_crawler",
   "language": "python",
   "name": "python3"
  },
  "language_info": {
   "codemirror_mode": {
    "name": "ipython",
    "version": 3
   },
   "file_extension": ".py",
   "mimetype": "text/x-python",
   "name": "python",
   "nbconvert_exporter": "python",
   "pygments_lexer": "ipython3",
   "version": "3.8.20"
  }
 },
 "nbformat": 4,
 "nbformat_minor": 2
}
